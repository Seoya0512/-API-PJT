{
  "cells": [
    {
      "cell_type": "markdown",
      "metadata": {
        "id": "rrLOHkRHxbUV"
      },
      "source": [
        "### 데이터별 상관관계 찾기"
      ]
    },
    {
      "cell_type": "code",
      "execution_count": 1,
      "metadata": {
        "id": "0nHEKcVXHaDQ"
      },
      "outputs": [],
      "source": [
        "!apt-get install -y fonts-nanum > /dev/null\n",
        "!fc-cache -fv > /dev/null\n",
        "!rm -rf ~/.cache/matplotlib > /dev/null"
      ]
    },
    {
      "cell_type": "code",
      "execution_count": 1,
      "metadata": {
        "colab": {
          "base_uri": "https://localhost:8080/"
        },
        "id": "jkRBYhhYHfvb",
        "outputId": "19471a23-d524-49b7-f42a-e73672160835"
      },
      "outputs": [
        {
          "name": "stdout",
          "output_type": "stream",
          "text": [
            "Mounted at /gdrive\n"
          ]
        }
      ],
      "source": [
        "from google.colab import drive\n",
        "drive.mount('/gdrive', force_remount=True)"
      ]
    },
    {
      "cell_type": "code",
      "execution_count": 2,
      "metadata": {
        "id": "rYlI43_6HmHS"
      },
      "outputs": [],
      "source": [
        "import pandas as pd\n",
        "import numpy as np\n",
        "import seaborn as sns\n",
        "\n",
        "%matplotlib inline \n",
        "import matplotlib.pyplot as plt\n",
        "from IPython.display import set_matplotlib_formats\n",
        "\n",
        "import numpy as np\n",
        "import matplotlib as mpl\n",
        "import matplotlib.pyplot as plt\n",
        "\n",
        "# minus 표시\n",
        "mpl.rcParams['axes.unicode_minus']=False\n",
        "plt.rc('font',family='NanumBarunGothic')"
      ]
    },
    {
      "cell_type": "code",
      "execution_count": 124,
      "metadata": {
        "id": "fwBb6vFlHwfY"
      },
      "outputs": [],
      "source": [
        "healthcare = '/content/drive/MyDrive/4조_헬스케어/자료파일/1차전처리/healthcare_edit.csv'\n",
        "local = '/content/drive/MyDrive/4조_헬스케어/자료파일/1차전처리/요양기관수.csv'\n",
        "hos = '/content/drive/MyDrive/4조_헬스케어/자료파일/1차전처리/인구대비데이터정리.csv'\n",
        "die = '/content/drive/MyDrive/4조_헬스케어/자료파일/1차전처리/회피가능사망자수_십만명당.csv'\n",
        "pep = '/content/drive/MyDrive/4조_헬스케어/자료파일/1차전처리/2019총인구.csv'\n",
        "die_p = '/content/drive/MyDrive/4조_헬스케어/자료파일/1차전처리/회피가능사망율(KOSIS_2015).csv'\n",
        "healthcare_t = '/content/drive/MyDrive/4조_헬스케어/자료파일/raw_data/healthcare_total.csv'"
      ]
    },
    {
      "cell_type": "markdown",
      "metadata": {
        "id": "XnV0iVI_J62d"
      },
      "source": [
        "### healthcare data"
      ]
    },
    {
      "cell_type": "code",
      "execution_count": 12,
      "metadata": {
        "colab": {
          "base_uri": "https://localhost:8080/",
          "height": 453
        },
        "id": "vE_lzFSqJ5o3",
        "outputId": "928a9dbb-ecbd-47ed-e590-349f102644b8"
      },
      "outputs": [
        {
          "data": {
            "text/html": [
              "<div>\n",
              "<style scoped>\n",
              "    .dataframe tbody tr th:only-of-type {\n",
              "        vertical-align: middle;\n",
              "    }\n",
              "\n",
              "    .dataframe tbody tr th {\n",
              "        vertical-align: top;\n",
              "    }\n",
              "\n",
              "    .dataframe thead th {\n",
              "        text-align: right;\n",
              "    }\n",
              "</style>\n",
              "<table border=\"1\" class=\"dataframe\">\n",
              "  <thead>\n",
              "    <tr style=\"text-align: right;\">\n",
              "      <th></th>\n",
              "      <th>Unnamed: 0</th>\n",
              "      <th>가입자 일련번호</th>\n",
              "      <th>연령대코드</th>\n",
              "      <th>시도코드</th>\n",
              "      <th>서식코드</th>\n",
              "      <th>진료과목코드</th>\n",
              "      <th>주상병코드</th>\n",
              "      <th>입내원일수</th>\n",
              "      <th>심결가산율</th>\n",
              "      <th>심결요양급여비용총액</th>\n",
              "    </tr>\n",
              "  </thead>\n",
              "  <tbody>\n",
              "    <tr>\n",
              "      <th>0</th>\n",
              "      <td>0</td>\n",
              "      <td>1</td>\n",
              "      <td>12</td>\n",
              "      <td>36</td>\n",
              "      <td>3</td>\n",
              "      <td>5</td>\n",
              "      <td>M751</td>\n",
              "      <td>1</td>\n",
              "      <td>0.25</td>\n",
              "      <td>19240</td>\n",
              "    </tr>\n",
              "    <tr>\n",
              "      <th>1</th>\n",
              "      <td>1</td>\n",
              "      <td>1</td>\n",
              "      <td>12</td>\n",
              "      <td>36</td>\n",
              "      <td>3</td>\n",
              "      <td>1</td>\n",
              "      <td>E1164</td>\n",
              "      <td>1</td>\n",
              "      <td>0.25</td>\n",
              "      <td>145680</td>\n",
              "    </tr>\n",
              "    <tr>\n",
              "      <th>2</th>\n",
              "      <td>2</td>\n",
              "      <td>1</td>\n",
              "      <td>12</td>\n",
              "      <td>36</td>\n",
              "      <td>3</td>\n",
              "      <td>1</td>\n",
              "      <td>N308</td>\n",
              "      <td>1</td>\n",
              "      <td>0.25</td>\n",
              "      <td>13240</td>\n",
              "    </tr>\n",
              "    <tr>\n",
              "      <th>3</th>\n",
              "      <td>3</td>\n",
              "      <td>1</td>\n",
              "      <td>12</td>\n",
              "      <td>36</td>\n",
              "      <td>2</td>\n",
              "      <td>1</td>\n",
              "      <td>E1164</td>\n",
              "      <td>21</td>\n",
              "      <td>0.25</td>\n",
              "      <td>861590</td>\n",
              "    </tr>\n",
              "    <tr>\n",
              "      <th>4</th>\n",
              "      <td>4</td>\n",
              "      <td>1</td>\n",
              "      <td>12</td>\n",
              "      <td>36</td>\n",
              "      <td>3</td>\n",
              "      <td>13</td>\n",
              "      <td>H6531</td>\n",
              "      <td>1</td>\n",
              "      <td>0.15</td>\n",
              "      <td>48440</td>\n",
              "    </tr>\n",
              "    <tr>\n",
              "      <th>...</th>\n",
              "      <td>...</td>\n",
              "      <td>...</td>\n",
              "      <td>...</td>\n",
              "      <td>...</td>\n",
              "      <td>...</td>\n",
              "      <td>...</td>\n",
              "      <td>...</td>\n",
              "      <td>...</td>\n",
              "      <td>...</td>\n",
              "      <td>...</td>\n",
              "    </tr>\n",
              "    <tr>\n",
              "      <th>13178340</th>\n",
              "      <td>13178340</td>\n",
              "      <td>1000000</td>\n",
              "      <td>1</td>\n",
              "      <td>37</td>\n",
              "      <td>3</td>\n",
              "      <td>21</td>\n",
              "      <td>P220</td>\n",
              "      <td>1</td>\n",
              "      <td>0.30</td>\n",
              "      <td>71000</td>\n",
              "    </tr>\n",
              "    <tr>\n",
              "      <th>13178341</th>\n",
              "      <td>13178341</td>\n",
              "      <td>1000000</td>\n",
              "      <td>1</td>\n",
              "      <td>37</td>\n",
              "      <td>3</td>\n",
              "      <td>11</td>\n",
              "      <td>J209</td>\n",
              "      <td>1</td>\n",
              "      <td>0.20</td>\n",
              "      <td>17620</td>\n",
              "    </tr>\n",
              "    <tr>\n",
              "      <th>13178342</th>\n",
              "      <td>13178342</td>\n",
              "      <td>1000000</td>\n",
              "      <td>1</td>\n",
              "      <td>37</td>\n",
              "      <td>3</td>\n",
              "      <td>12</td>\n",
              "      <td>H351</td>\n",
              "      <td>1</td>\n",
              "      <td>0.25</td>\n",
              "      <td>31890</td>\n",
              "    </tr>\n",
              "    <tr>\n",
              "      <th>13178343</th>\n",
              "      <td>13178343</td>\n",
              "      <td>1000000</td>\n",
              "      <td>1</td>\n",
              "      <td>37</td>\n",
              "      <td>2</td>\n",
              "      <td>11</td>\n",
              "      <td>P220</td>\n",
              "      <td>12</td>\n",
              "      <td>0.25</td>\n",
              "      <td>1757040</td>\n",
              "    </tr>\n",
              "    <tr>\n",
              "      <th>13178344</th>\n",
              "      <td>13178344</td>\n",
              "      <td>1000000</td>\n",
              "      <td>1</td>\n",
              "      <td>37</td>\n",
              "      <td>3</td>\n",
              "      <td>13</td>\n",
              "      <td>J303</td>\n",
              "      <td>1</td>\n",
              "      <td>0.15</td>\n",
              "      <td>12610</td>\n",
              "    </tr>\n",
              "  </tbody>\n",
              "</table>\n",
              "<p>13178345 rows × 10 columns</p>\n",
              "</div>"
            ],
            "text/plain": [
              "          Unnamed: 0  가입자 일련번호  연령대코드  시도코드  ...  주상병코드  입내원일수 심결가산율  심결요양급여비용총액\n",
              "0                  0         1     12    36  ...   M751      1  0.25       19240\n",
              "1                  1         1     12    36  ...  E1164      1  0.25      145680\n",
              "2                  2         1     12    36  ...   N308      1  0.25       13240\n",
              "3                  3         1     12    36  ...  E1164     21  0.25      861590\n",
              "4                  4         1     12    36  ...  H6531      1  0.15       48440\n",
              "...              ...       ...    ...   ...  ...    ...    ...   ...         ...\n",
              "13178340    13178340   1000000      1    37  ...   P220      1  0.30       71000\n",
              "13178341    13178341   1000000      1    37  ...   J209      1  0.20       17620\n",
              "13178342    13178342   1000000      1    37  ...   H351      1  0.25       31890\n",
              "13178343    13178343   1000000      1    37  ...   P220     12  0.25     1757040\n",
              "13178344    13178344   1000000      1    37  ...   J303      1  0.15       12610\n",
              "\n",
              "[13178345 rows x 10 columns]"
            ]
          },
          "execution_count": 12,
          "metadata": {},
          "output_type": "execute_result"
        }
      ],
      "source": [
        "df = pd.read_csv(healthcare)\n",
        "df"
      ]
    },
    {
      "cell_type": "code",
      "execution_count": 13,
      "metadata": {
        "id": "PjEYfqYfJ_ma"
      },
      "outputs": [],
      "source": [
        "del df['Unnamed: 0']"
      ]
    },
    {
      "cell_type": "code",
      "execution_count": 139,
      "metadata": {
        "colab": {
          "base_uri": "https://localhost:8080/",
          "height": 607
        },
        "id": "0Nn3VInZKV-S",
        "outputId": "634893dd-ad29-4fdf-8262-9850cc681905"
      },
      "outputs": [
        {
          "data": {
            "text/html": [
              "<div>\n",
              "<style scoped>\n",
              "    .dataframe tbody tr th:only-of-type {\n",
              "        vertical-align: middle;\n",
              "    }\n",
              "\n",
              "    .dataframe tbody tr th {\n",
              "        vertical-align: top;\n",
              "    }\n",
              "\n",
              "    .dataframe thead th {\n",
              "        text-align: right;\n",
              "    }\n",
              "</style>\n",
              "<table border=\"1\" class=\"dataframe\">\n",
              "  <thead>\n",
              "    <tr style=\"text-align: right;\">\n",
              "      <th></th>\n",
              "      <th>심결요양급여비용총액</th>\n",
              "    </tr>\n",
              "    <tr>\n",
              "      <th>시도코드</th>\n",
              "      <th></th>\n",
              "    </tr>\n",
              "  </thead>\n",
              "  <tbody>\n",
              "    <tr>\n",
              "      <th>11</th>\n",
              "      <td>187836166960</td>\n",
              "    </tr>\n",
              "    <tr>\n",
              "      <th>21</th>\n",
              "      <td>85683171090</td>\n",
              "    </tr>\n",
              "    <tr>\n",
              "      <th>22</th>\n",
              "      <td>50084064620</td>\n",
              "    </tr>\n",
              "    <tr>\n",
              "      <th>23</th>\n",
              "      <td>59609191530</td>\n",
              "    </tr>\n",
              "    <tr>\n",
              "      <th>24</th>\n",
              "      <td>32915444680</td>\n",
              "    </tr>\n",
              "    <tr>\n",
              "      <th>25</th>\n",
              "      <td>30254629710</td>\n",
              "    </tr>\n",
              "    <tr>\n",
              "      <th>26</th>\n",
              "      <td>24540993400</td>\n",
              "    </tr>\n",
              "    <tr>\n",
              "      <th>29</th>\n",
              "      <td>5869375380</td>\n",
              "    </tr>\n",
              "    <tr>\n",
              "      <th>31</th>\n",
              "      <td>248135363540</td>\n",
              "    </tr>\n",
              "    <tr>\n",
              "      <th>32</th>\n",
              "      <td>32227158040</td>\n",
              "    </tr>\n",
              "    <tr>\n",
              "      <th>33</th>\n",
              "      <td>35342444840</td>\n",
              "    </tr>\n",
              "    <tr>\n",
              "      <th>34</th>\n",
              "      <td>51308896010</td>\n",
              "    </tr>\n",
              "    <tr>\n",
              "      <th>35</th>\n",
              "      <td>46769491370</td>\n",
              "    </tr>\n",
              "    <tr>\n",
              "      <th>36</th>\n",
              "      <td>56364053840</td>\n",
              "    </tr>\n",
              "    <tr>\n",
              "      <th>37</th>\n",
              "      <td>66113537380</td>\n",
              "    </tr>\n",
              "    <tr>\n",
              "      <th>38</th>\n",
              "      <td>82029013970</td>\n",
              "    </tr>\n",
              "    <tr>\n",
              "      <th>39</th>\n",
              "      <td>14057678400</td>\n",
              "    </tr>\n",
              "  </tbody>\n",
              "</table>\n",
              "</div>"
            ],
            "text/plain": [
              "        심결요양급여비용총액\n",
              "시도코드              \n",
              "11    187836166960\n",
              "21     85683171090\n",
              "22     50084064620\n",
              "23     59609191530\n",
              "24     32915444680\n",
              "25     30254629710\n",
              "26     24540993400\n",
              "29      5869375380\n",
              "31    248135363540\n",
              "32     32227158040\n",
              "33     35342444840\n",
              "34     51308896010\n",
              "35     46769491370\n",
              "36     56364053840\n",
              "37     66113537380\n",
              "38     82029013970\n",
              "39     14057678400"
            ]
          },
          "execution_count": 139,
          "metadata": {},
          "output_type": "execute_result"
        }
      ],
      "source": [
        "df_money = df.groupby('시도코드')['심결요양급여비용총액'].sum().to_frame()\n",
        "df_money"
      ]
    },
    {
      "cell_type": "markdown",
      "metadata": {
        "id": "BWc1WhIRMzDc"
      },
      "source": [
        "### 인구데이터"
      ]
    },
    {
      "cell_type": "code",
      "execution_count": 140,
      "metadata": {
        "id": "FUF1gc78Kk6g"
      },
      "outputs": [],
      "source": [
        "pop = pd.read_csv(pep)\n",
        "del pop['Unnamed: 0']"
      ]
    },
    {
      "cell_type": "code",
      "execution_count": 141,
      "metadata": {
        "colab": {
          "base_uri": "https://localhost:8080/"
        },
        "id": "lEtRFf8cMrlh",
        "outputId": "734932f6-ce2f-4285-fb41-18c36f5270a3"
      },
      "outputs": [
        {
          "data": {
            "text/plain": [
              "Index(['시도코드', '총 인구수(명)', '총인구_남자(명)', '총인구_여자(명)', '총인구_성비(명)'], dtype='object')"
            ]
          },
          "execution_count": 141,
          "metadata": {},
          "output_type": "execute_result"
        }
      ],
      "source": [
        "pop.columns"
      ]
    },
    {
      "cell_type": "code",
      "execution_count": 142,
      "metadata": {
        "id": "0BSBrgcbMyW6"
      },
      "outputs": [],
      "source": [
        "pop_city = pop[['시도코드', '총 인구수(명)']]"
      ]
    },
    {
      "cell_type": "code",
      "execution_count": 143,
      "metadata": {
        "id": "2eGMDi5cM-3J"
      },
      "outputs": [],
      "source": [
        "pop_city = pop_city.set_index('시도코드')"
      ]
    },
    {
      "cell_type": "markdown",
      "metadata": {
        "id": "rqKwa1WGOKEo"
      },
      "source": [
        "* 인구, 요양급여비용총액 합치기"
      ]
    },
    {
      "cell_type": "code",
      "execution_count": 144,
      "metadata": {
        "colab": {
          "base_uri": "https://localhost:8080/",
          "height": 607
        },
        "id": "gpwXrN6HNK6p",
        "outputId": "5b0ff5ec-7021-406b-ff38-1012a8558b2d"
      },
      "outputs": [
        {
          "data": {
            "text/html": [
              "<div>\n",
              "<style scoped>\n",
              "    .dataframe tbody tr th:only-of-type {\n",
              "        vertical-align: middle;\n",
              "    }\n",
              "\n",
              "    .dataframe tbody tr th {\n",
              "        vertical-align: top;\n",
              "    }\n",
              "\n",
              "    .dataframe thead th {\n",
              "        text-align: right;\n",
              "    }\n",
              "</style>\n",
              "<table border=\"1\" class=\"dataframe\">\n",
              "  <thead>\n",
              "    <tr style=\"text-align: right;\">\n",
              "      <th></th>\n",
              "      <th>심결요양급여비용총액</th>\n",
              "      <th>총 인구수(명)</th>\n",
              "    </tr>\n",
              "    <tr>\n",
              "      <th>시도코드</th>\n",
              "      <th></th>\n",
              "      <th></th>\n",
              "    </tr>\n",
              "  </thead>\n",
              "  <tbody>\n",
              "    <tr>\n",
              "      <th>11</th>\n",
              "      <td>187836166960</td>\n",
              "      <td>9639541</td>\n",
              "    </tr>\n",
              "    <tr>\n",
              "      <th>21</th>\n",
              "      <td>85683171090</td>\n",
              "      <td>3372692</td>\n",
              "    </tr>\n",
              "    <tr>\n",
              "      <th>22</th>\n",
              "      <td>50084064620</td>\n",
              "      <td>2429940</td>\n",
              "    </tr>\n",
              "    <tr>\n",
              "      <th>23</th>\n",
              "      <td>59609191530</td>\n",
              "      <td>2952237</td>\n",
              "    </tr>\n",
              "    <tr>\n",
              "      <th>24</th>\n",
              "      <td>32915444680</td>\n",
              "      <td>1489730</td>\n",
              "    </tr>\n",
              "    <tr>\n",
              "      <th>25</th>\n",
              "      <td>30254629710</td>\n",
              "      <td>1498839</td>\n",
              "    </tr>\n",
              "    <tr>\n",
              "      <th>26</th>\n",
              "      <td>24540993400</td>\n",
              "      <td>1143692</td>\n",
              "    </tr>\n",
              "    <tr>\n",
              "      <th>29</th>\n",
              "      <td>5869375380</td>\n",
              "      <td>338136</td>\n",
              "    </tr>\n",
              "    <tr>\n",
              "      <th>31</th>\n",
              "      <td>248135363540</td>\n",
              "      <td>13300900</td>\n",
              "    </tr>\n",
              "    <tr>\n",
              "      <th>32</th>\n",
              "      <td>32227158040</td>\n",
              "      <td>1520127</td>\n",
              "    </tr>\n",
              "    <tr>\n",
              "      <th>33</th>\n",
              "      <td>35342444840</td>\n",
              "      <td>1629343</td>\n",
              "    </tr>\n",
              "    <tr>\n",
              "      <th>34</th>\n",
              "      <td>51308896010</td>\n",
              "      <td>2188649</td>\n",
              "    </tr>\n",
              "    <tr>\n",
              "      <th>35</th>\n",
              "      <td>46769491370</td>\n",
              "      <td>1807423</td>\n",
              "    </tr>\n",
              "    <tr>\n",
              "      <th>36</th>\n",
              "      <td>56364053840</td>\n",
              "      <td>1787543</td>\n",
              "    </tr>\n",
              "    <tr>\n",
              "      <th>37</th>\n",
              "      <td>66113537380</td>\n",
              "      <td>2668154</td>\n",
              "    </tr>\n",
              "    <tr>\n",
              "      <th>38</th>\n",
              "      <td>82029013970</td>\n",
              "      <td>3347209</td>\n",
              "    </tr>\n",
              "    <tr>\n",
              "      <th>39</th>\n",
              "      <td>14057678400</td>\n",
              "      <td>665048</td>\n",
              "    </tr>\n",
              "  </tbody>\n",
              "</table>\n",
              "</div>"
            ],
            "text/plain": [
              "        심결요양급여비용총액  총 인구수(명)\n",
              "시도코드                        \n",
              "11    187836166960   9639541\n",
              "21     85683171090   3372692\n",
              "22     50084064620   2429940\n",
              "23     59609191530   2952237\n",
              "24     32915444680   1489730\n",
              "25     30254629710   1498839\n",
              "26     24540993400   1143692\n",
              "29      5869375380    338136\n",
              "31    248135363540  13300900\n",
              "32     32227158040   1520127\n",
              "33     35342444840   1629343\n",
              "34     51308896010   2188649\n",
              "35     46769491370   1807423\n",
              "36     56364053840   1787543\n",
              "37     66113537380   2668154\n",
              "38     82029013970   3347209\n",
              "39     14057678400    665048"
            ]
          },
          "execution_count": 144,
          "metadata": {},
          "output_type": "execute_result"
        }
      ],
      "source": [
        "df_pop = df_money.join(pop_city)\n",
        "df_pop"
      ]
    },
    {
      "cell_type": "markdown",
      "metadata": {
        "id": "x8F8KXtJOVGo"
      },
      "source": [
        "인구당 심결요양급여비용 "
      ]
    },
    {
      "cell_type": "code",
      "execution_count": 145,
      "metadata": {
        "colab": {
          "base_uri": "https://localhost:8080/",
          "height": 297
        },
        "id": "Uwq4fasYNow2",
        "outputId": "ba943ad1-03d6-4369-eba9-56aa0cfe1f4e"
      },
      "outputs": [
        {
          "data": {
            "text/html": [
              "<div>\n",
              "<style scoped>\n",
              "    .dataframe tbody tr th:only-of-type {\n",
              "        vertical-align: middle;\n",
              "    }\n",
              "\n",
              "    .dataframe tbody tr th {\n",
              "        vertical-align: top;\n",
              "    }\n",
              "\n",
              "    .dataframe thead th {\n",
              "        text-align: right;\n",
              "    }\n",
              "</style>\n",
              "<table border=\"1\" class=\"dataframe\">\n",
              "  <thead>\n",
              "    <tr style=\"text-align: right;\">\n",
              "      <th></th>\n",
              "      <th>인구당 비용</th>\n",
              "    </tr>\n",
              "  </thead>\n",
              "  <tbody>\n",
              "    <tr>\n",
              "      <th>count</th>\n",
              "      <td>1.700000e+01</td>\n",
              "    </tr>\n",
              "    <tr>\n",
              "      <th>mean</th>\n",
              "      <td>2.233005e+09</td>\n",
              "    </tr>\n",
              "    <tr>\n",
              "      <th>std</th>\n",
              "      <td>3.363730e+08</td>\n",
              "    </tr>\n",
              "    <tr>\n",
              "      <th>min</th>\n",
              "      <td>1.735803e+09</td>\n",
              "    </tr>\n",
              "    <tr>\n",
              "      <th>25%</th>\n",
              "      <td>2.019119e+09</td>\n",
              "    </tr>\n",
              "    <tr>\n",
              "      <th>50%</th>\n",
              "      <td>2.145769e+09</td>\n",
              "    </tr>\n",
              "    <tr>\n",
              "      <th>75%</th>\n",
              "      <td>2.450669e+09</td>\n",
              "    </tr>\n",
              "    <tr>\n",
              "      <th>max</th>\n",
              "      <td>3.153158e+09</td>\n",
              "    </tr>\n",
              "  </tbody>\n",
              "</table>\n",
              "</div>"
            ],
            "text/plain": [
              "             인구당 비용\n",
              "count  1.700000e+01\n",
              "mean   2.233005e+09\n",
              "std    3.363730e+08\n",
              "min    1.735803e+09\n",
              "25%    2.019119e+09\n",
              "50%    2.145769e+09\n",
              "75%    2.450669e+09\n",
              "max    3.153158e+09"
            ]
          },
          "execution_count": 145,
          "metadata": {},
          "output_type": "execute_result"
        }
      ],
      "source": [
        "df_pop['인구당 비용'] = df_pop['심결요양급여비용총액'] / df_pop['총 인구수(명)'] *100000\n",
        "df_pop[['인구당 비용']].describe()"
      ]
    },
    {
      "cell_type": "markdown",
      "metadata": {
        "id": "Bp81g2npPDSG"
      },
      "source": [
        "인구당 비용이 평균값 보다 작은 Top 5 \n",
        "   - 29, 31, 11, 25, 23"
      ]
    },
    {
      "cell_type": "code",
      "execution_count": 146,
      "metadata": {
        "colab": {
          "base_uri": "https://localhost:8080/",
          "height": 235
        },
        "id": "Ay64v9X7OnW4",
        "outputId": "f026438c-701a-4c00-db95-7db9f9c5f815"
      },
      "outputs": [
        {
          "data": {
            "text/html": [
              "<div>\n",
              "<style scoped>\n",
              "    .dataframe tbody tr th:only-of-type {\n",
              "        vertical-align: middle;\n",
              "    }\n",
              "\n",
              "    .dataframe tbody tr th {\n",
              "        vertical-align: top;\n",
              "    }\n",
              "\n",
              "    .dataframe thead th {\n",
              "        text-align: right;\n",
              "    }\n",
              "</style>\n",
              "<table border=\"1\" class=\"dataframe\">\n",
              "  <thead>\n",
              "    <tr style=\"text-align: right;\">\n",
              "      <th></th>\n",
              "      <th>심결요양급여비용총액</th>\n",
              "      <th>총 인구수(명)</th>\n",
              "      <th>인구당 비용</th>\n",
              "    </tr>\n",
              "    <tr>\n",
              "      <th>시도코드</th>\n",
              "      <th></th>\n",
              "      <th></th>\n",
              "      <th></th>\n",
              "    </tr>\n",
              "  </thead>\n",
              "  <tbody>\n",
              "    <tr>\n",
              "      <th>29</th>\n",
              "      <td>5869375380</td>\n",
              "      <td>338136</td>\n",
              "      <td>1.735803e+09</td>\n",
              "    </tr>\n",
              "    <tr>\n",
              "      <th>31</th>\n",
              "      <td>248135363540</td>\n",
              "      <td>13300900</td>\n",
              "      <td>1.865553e+09</td>\n",
              "    </tr>\n",
              "    <tr>\n",
              "      <th>11</th>\n",
              "      <td>187836166960</td>\n",
              "      <td>9639541</td>\n",
              "      <td>1.948601e+09</td>\n",
              "    </tr>\n",
              "    <tr>\n",
              "      <th>25</th>\n",
              "      <td>30254629710</td>\n",
              "      <td>1498839</td>\n",
              "      <td>2.018538e+09</td>\n",
              "    </tr>\n",
              "    <tr>\n",
              "      <th>23</th>\n",
              "      <td>59609191530</td>\n",
              "      <td>2952237</td>\n",
              "      <td>2.019119e+09</td>\n",
              "    </tr>\n",
              "  </tbody>\n",
              "</table>\n",
              "</div>"
            ],
            "text/plain": [
              "        심결요양급여비용총액  총 인구수(명)        인구당 비용\n",
              "시도코드                                      \n",
              "29      5869375380    338136  1.735803e+09\n",
              "31    248135363540  13300900  1.865553e+09\n",
              "11    187836166960   9639541  1.948601e+09\n",
              "25     30254629710   1498839  2.018538e+09\n",
              "23     59609191530   2952237  2.019119e+09"
            ]
          },
          "execution_count": 146,
          "metadata": {},
          "output_type": "execute_result"
        }
      ],
      "source": [
        "df_pop.sort_values(by='인구당 비용').head()"
      ]
    },
    {
      "cell_type": "markdown",
      "metadata": {
        "id": "57ndm0d9PKmk"
      },
      "source": [
        "인구당 비용이 평균값 보다 큰 Top5\n",
        "  - 36, 35, 21, 37, 38"
      ]
    },
    {
      "cell_type": "code",
      "execution_count": 91,
      "metadata": {
        "colab": {
          "base_uri": "https://localhost:8080/",
          "height": 235
        },
        "id": "xyvNv14tO7xR",
        "outputId": "c869b2de-7e1e-4ce9-d92b-88912e4fbcb1"
      },
      "outputs": [
        {
          "data": {
            "text/html": [
              "<div>\n",
              "<style scoped>\n",
              "    .dataframe tbody tr th:only-of-type {\n",
              "        vertical-align: middle;\n",
              "    }\n",
              "\n",
              "    .dataframe tbody tr th {\n",
              "        vertical-align: top;\n",
              "    }\n",
              "\n",
              "    .dataframe thead th {\n",
              "        text-align: right;\n",
              "    }\n",
              "</style>\n",
              "<table border=\"1\" class=\"dataframe\">\n",
              "  <thead>\n",
              "    <tr style=\"text-align: right;\">\n",
              "      <th></th>\n",
              "      <th>심결요양급여비용총액</th>\n",
              "      <th>총 인구수(명)</th>\n",
              "      <th>인구당 비용</th>\n",
              "    </tr>\n",
              "    <tr>\n",
              "      <th>시도코드</th>\n",
              "      <th></th>\n",
              "      <th></th>\n",
              "      <th></th>\n",
              "    </tr>\n",
              "  </thead>\n",
              "  <tbody>\n",
              "    <tr>\n",
              "      <th>36</th>\n",
              "      <td>56364053840</td>\n",
              "      <td>1787543</td>\n",
              "      <td>3.153158e+09</td>\n",
              "    </tr>\n",
              "    <tr>\n",
              "      <th>35</th>\n",
              "      <td>46769491370</td>\n",
              "      <td>1807423</td>\n",
              "      <td>2.587634e+09</td>\n",
              "    </tr>\n",
              "    <tr>\n",
              "      <th>21</th>\n",
              "      <td>85683171090</td>\n",
              "      <td>3372692</td>\n",
              "      <td>2.540498e+09</td>\n",
              "    </tr>\n",
              "    <tr>\n",
              "      <th>37</th>\n",
              "      <td>66113537380</td>\n",
              "      <td>2668154</td>\n",
              "      <td>2.477876e+09</td>\n",
              "    </tr>\n",
              "    <tr>\n",
              "      <th>38</th>\n",
              "      <td>82029013970</td>\n",
              "      <td>3347209</td>\n",
              "      <td>2.450669e+09</td>\n",
              "    </tr>\n",
              "  </tbody>\n",
              "</table>\n",
              "</div>"
            ],
            "text/plain": [
              "       심결요양급여비용총액  총 인구수(명)        인구당 비용\n",
              "시도코드                                     \n",
              "36    56364053840   1787543  3.153158e+09\n",
              "35    46769491370   1807423  2.587634e+09\n",
              "21    85683171090   3372692  2.540498e+09\n",
              "37    66113537380   2668154  2.477876e+09\n",
              "38    82029013970   3347209  2.450669e+09"
            ]
          },
          "execution_count": 91,
          "metadata": {},
          "output_type": "execute_result"
        }
      ],
      "source": [
        "df_pop.sort_values(by='인구당 비용', ascending=False).head()"
      ]
    },
    {
      "cell_type": "code",
      "execution_count": 92,
      "metadata": {
        "id": "lhgfmNu-PTtb"
      },
      "outputs": [],
      "source": [
        "a_die = pd.read_csv(die)\n",
        "a_die = a_die[['시도코드', '십만명당 회피가능사망자수']]\n",
        "a_die = a_die.set_index('시도코드')"
      ]
    },
    {
      "cell_type": "code",
      "execution_count": 93,
      "metadata": {
        "id": "qNxFs3DnQX9X"
      },
      "outputs": [],
      "source": [
        "df_pop_die = df_pop.join(a_die, how='left')\n",
        "df_pop_die = df_pop_die.reset_index()"
      ]
    },
    {
      "cell_type": "markdown",
      "metadata": {
        "id": "ENCHkAAYTGV_"
      },
      "source": [
        "시도별 심결요양급여비용 및 회피가능사망자수 상관관계 분석 👾\n",
        "  - 십만명당 회피가능사망자수 및 인구당 비용에 연관성이 있어보임 \n",
        "  - 시도와 회피가능사망자수 "
      ]
    },
    {
      "cell_type": "code",
      "execution_count": 94,
      "metadata": {
        "colab": {
          "base_uri": "https://localhost:8080/",
          "height": 576
        },
        "id": "JIEBx-NnQvan",
        "outputId": "409c6d54-a62d-4e4a-99fc-fe4d965eca1f"
      },
      "outputs": [
        {
          "data": {
            "text/html": [
              "<div>\n",
              "<style scoped>\n",
              "    .dataframe tbody tr th:only-of-type {\n",
              "        vertical-align: middle;\n",
              "    }\n",
              "\n",
              "    .dataframe tbody tr th {\n",
              "        vertical-align: top;\n",
              "    }\n",
              "\n",
              "    .dataframe thead th {\n",
              "        text-align: right;\n",
              "    }\n",
              "</style>\n",
              "<table border=\"1\" class=\"dataframe\">\n",
              "  <thead>\n",
              "    <tr style=\"text-align: right;\">\n",
              "      <th></th>\n",
              "      <th>시도코드</th>\n",
              "      <th>심결요양급여비용총액</th>\n",
              "      <th>총 인구수(명)</th>\n",
              "      <th>인구당 비용</th>\n",
              "      <th>십만명당 회피가능사망자수</th>\n",
              "    </tr>\n",
              "  </thead>\n",
              "  <tbody>\n",
              "    <tr>\n",
              "      <th>0</th>\n",
              "      <td>11</td>\n",
              "      <td>187836166960</td>\n",
              "      <td>9639541</td>\n",
              "      <td>1.948601e+09</td>\n",
              "      <td>66.5</td>\n",
              "    </tr>\n",
              "    <tr>\n",
              "      <th>1</th>\n",
              "      <td>21</td>\n",
              "      <td>85683171090</td>\n",
              "      <td>3372692</td>\n",
              "      <td>2.540498e+09</td>\n",
              "      <td>86.4</td>\n",
              "    </tr>\n",
              "    <tr>\n",
              "      <th>2</th>\n",
              "      <td>22</td>\n",
              "      <td>50084064620</td>\n",
              "      <td>2429940</td>\n",
              "      <td>2.061124e+09</td>\n",
              "      <td>61.4</td>\n",
              "    </tr>\n",
              "    <tr>\n",
              "      <th>3</th>\n",
              "      <td>23</td>\n",
              "      <td>59609191530</td>\n",
              "      <td>2952237</td>\n",
              "      <td>2.019119e+09</td>\n",
              "      <td>65.6</td>\n",
              "    </tr>\n",
              "    <tr>\n",
              "      <th>4</th>\n",
              "      <td>24</td>\n",
              "      <td>32915444680</td>\n",
              "      <td>1489730</td>\n",
              "      <td>2.209491e+09</td>\n",
              "      <td>60.7</td>\n",
              "    </tr>\n",
              "    <tr>\n",
              "      <th>5</th>\n",
              "      <td>25</td>\n",
              "      <td>30254629710</td>\n",
              "      <td>1498839</td>\n",
              "      <td>2.018538e+09</td>\n",
              "      <td>55.6</td>\n",
              "    </tr>\n",
              "    <tr>\n",
              "      <th>6</th>\n",
              "      <td>26</td>\n",
              "      <td>24540993400</td>\n",
              "      <td>1143692</td>\n",
              "      <td>2.145769e+09</td>\n",
              "      <td>52.7</td>\n",
              "    </tr>\n",
              "    <tr>\n",
              "      <th>7</th>\n",
              "      <td>29</td>\n",
              "      <td>5869375380</td>\n",
              "      <td>338136</td>\n",
              "      <td>1.735803e+09</td>\n",
              "      <td>37.9</td>\n",
              "    </tr>\n",
              "    <tr>\n",
              "      <th>8</th>\n",
              "      <td>31</td>\n",
              "      <td>248135363540</td>\n",
              "      <td>13300900</td>\n",
              "      <td>1.865553e+09</td>\n",
              "      <td>59.5</td>\n",
              "    </tr>\n",
              "    <tr>\n",
              "      <th>9</th>\n",
              "      <td>32</td>\n",
              "      <td>32227158040</td>\n",
              "      <td>1520127</td>\n",
              "      <td>2.120031e+09</td>\n",
              "      <td>120.8</td>\n",
              "    </tr>\n",
              "    <tr>\n",
              "      <th>10</th>\n",
              "      <td>33</td>\n",
              "      <td>35342444840</td>\n",
              "      <td>1629343</td>\n",
              "      <td>2.169122e+09</td>\n",
              "      <td>84.9</td>\n",
              "    </tr>\n",
              "    <tr>\n",
              "      <th>11</th>\n",
              "      <td>34</td>\n",
              "      <td>51308896010</td>\n",
              "      <td>2188649</td>\n",
              "      <td>2.344318e+09</td>\n",
              "      <td>90.5</td>\n",
              "    </tr>\n",
              "    <tr>\n",
              "      <th>12</th>\n",
              "      <td>35</td>\n",
              "      <td>46769491370</td>\n",
              "      <td>1807423</td>\n",
              "      <td>2.587634e+09</td>\n",
              "      <td>107.1</td>\n",
              "    </tr>\n",
              "    <tr>\n",
              "      <th>13</th>\n",
              "      <td>36</td>\n",
              "      <td>56364053840</td>\n",
              "      <td>1787543</td>\n",
              "      <td>3.153158e+09</td>\n",
              "      <td>152.8</td>\n",
              "    </tr>\n",
              "    <tr>\n",
              "      <th>14</th>\n",
              "      <td>37</td>\n",
              "      <td>66113537380</td>\n",
              "      <td>2668154</td>\n",
              "      <td>2.477876e+09</td>\n",
              "      <td>97.0</td>\n",
              "    </tr>\n",
              "    <tr>\n",
              "      <th>15</th>\n",
              "      <td>38</td>\n",
              "      <td>82029013970</td>\n",
              "      <td>3347209</td>\n",
              "      <td>2.450669e+09</td>\n",
              "      <td>90.7</td>\n",
              "    </tr>\n",
              "    <tr>\n",
              "      <th>16</th>\n",
              "      <td>39</td>\n",
              "      <td>14057678400</td>\n",
              "      <td>665048</td>\n",
              "      <td>2.113784e+09</td>\n",
              "      <td>99.1</td>\n",
              "    </tr>\n",
              "  </tbody>\n",
              "</table>\n",
              "</div>"
            ],
            "text/plain": [
              "    시도코드    심결요양급여비용총액  총 인구수(명)        인구당 비용  십만명당 회피가능사망자수\n",
              "0     11  187836166960   9639541  1.948601e+09           66.5\n",
              "1     21   85683171090   3372692  2.540498e+09           86.4\n",
              "2     22   50084064620   2429940  2.061124e+09           61.4\n",
              "3     23   59609191530   2952237  2.019119e+09           65.6\n",
              "4     24   32915444680   1489730  2.209491e+09           60.7\n",
              "5     25   30254629710   1498839  2.018538e+09           55.6\n",
              "6     26   24540993400   1143692  2.145769e+09           52.7\n",
              "7     29    5869375380    338136  1.735803e+09           37.9\n",
              "8     31  248135363540  13300900  1.865553e+09           59.5\n",
              "9     32   32227158040   1520127  2.120031e+09          120.8\n",
              "10    33   35342444840   1629343  2.169122e+09           84.9\n",
              "11    34   51308896010   2188649  2.344318e+09           90.5\n",
              "12    35   46769491370   1807423  2.587634e+09          107.1\n",
              "13    36   56364053840   1787543  3.153158e+09          152.8\n",
              "14    37   66113537380   2668154  2.477876e+09           97.0\n",
              "15    38   82029013970   3347209  2.450669e+09           90.7\n",
              "16    39   14057678400    665048  2.113784e+09           99.1"
            ]
          },
          "execution_count": 94,
          "metadata": {},
          "output_type": "execute_result"
        }
      ],
      "source": [
        "df_pop_die"
      ]
    },
    {
      "cell_type": "markdown",
      "metadata": {
        "id": "eJpEmRx_V5Mb"
      },
      "source": [
        "* 산점도 "
      ]
    },
    {
      "cell_type": "code",
      "execution_count": 95,
      "metadata": {
        "id": "nwggLCO6Ux_T"
      },
      "outputs": [],
      "source": [
        "X = df_pop_die['인구당 비용'].values\n",
        "Y = df_pop_die['십만명당 회피가능사망자수'].values"
      ]
    },
    {
      "cell_type": "code",
      "execution_count": 96,
      "metadata": {
        "colab": {
          "base_uri": "https://localhost:8080/",
          "height": 457
        },
        "id": "fVpmVkwYVYx1",
        "outputId": "42010d60-fde8-480f-c1d4-bf35728abcb4"
      },
      "outputs": [
        {
          "data": {
            "image/png": "[encoded data removed]",
            "text/plain": [
              "<Figure size 504x504 with 1 Axes>"
            ]
          },
          "metadata": {
            "needs_background": "light"
          },
          "output_type": "display_data"
        }
      ],
      "source": [
        "plt.scatter(X,Y, alpha=0.5)\n",
        "plt.title('인구당비용, 회피가능사망자수')\n",
        "plt.xlabel('인구당 요양급여비용')\n",
        "plt.ylabel('회피가능사망자수')\n",
        "plt.show()"
      ]
    },
    {
      "cell_type": "code",
      "execution_count": 97,
      "metadata": {
        "colab": {
          "base_uri": "https://localhost:8080/"
        },
        "id": "NRxN6p7ZWeTq",
        "outputId": "c9682fd1-d7af-4c1b-9e16-13814de663e7"
      },
      "outputs": [
        {
          "data": {
            "text/plain": [
              "(0.8119570495546518, 7.546563754957297e-05)"
            ]
          },
          "execution_count": 97,
          "metadata": {},
          "output_type": "execute_result"
        }
      ],
      "source": [
        "import scipy.stats as stats\n",
        "stats.pearsonr(X,Y)"
      ]
    },
    {
      "cell_type": "markdown",
      "metadata": {
        "id": "S_mahAecRHld"
      },
      "source": [
        "#### 상관관계 분석"
      ]
    },
    {
      "cell_type": "code",
      "execution_count": 98,
      "metadata": {
        "colab": {
          "base_uri": "https://localhost:8080/",
          "height": 255
        },
        "id": "0OX8H2tbQ-Re",
        "outputId": "89fe6436-5f05-405b-a319-c58a91af8368"
      },
      "outputs": [
        {
          "data": {
            "text/html": [
              "<div>\n",
              "<style scoped>\n",
              "    .dataframe tbody tr th:only-of-type {\n",
              "        vertical-align: middle;\n",
              "    }\n",
              "\n",
              "    .dataframe tbody tr th {\n",
              "        vertical-align: top;\n",
              "    }\n",
              "\n",
              "    .dataframe thead th {\n",
              "        text-align: right;\n",
              "    }\n",
              "</style>\n",
              "<table border=\"1\" class=\"dataframe\">\n",
              "  <thead>\n",
              "    <tr style=\"text-align: right;\">\n",
              "      <th></th>\n",
              "      <th>시도코드</th>\n",
              "      <th>심결요양급여비용총액</th>\n",
              "      <th>총 인구수(명)</th>\n",
              "      <th>인구당 비용</th>\n",
              "      <th>십만명당 회피가능사망자수</th>\n",
              "    </tr>\n",
              "  </thead>\n",
              "  <tbody>\n",
              "    <tr>\n",
              "      <th>시도코드</th>\n",
              "      <td>1.000000</td>\n",
              "      <td>-0.300655</td>\n",
              "      <td>-0.325540</td>\n",
              "      <td>0.417302</td>\n",
              "      <td>0.556732</td>\n",
              "    </tr>\n",
              "    <tr>\n",
              "      <th>심결요양급여비용총액</th>\n",
              "      <td>-0.300655</td>\n",
              "      <td>1.000000</td>\n",
              "      <td>0.992251</td>\n",
              "      <td>-0.152993</td>\n",
              "      <td>-0.118317</td>\n",
              "    </tr>\n",
              "    <tr>\n",
              "      <th>총 인구수(명)</th>\n",
              "      <td>-0.325540</td>\n",
              "      <td>0.992251</td>\n",
              "      <td>1.000000</td>\n",
              "      <td>-0.261606</td>\n",
              "      <td>-0.196660</td>\n",
              "    </tr>\n",
              "    <tr>\n",
              "      <th>인구당 비용</th>\n",
              "      <td>0.417302</td>\n",
              "      <td>-0.152993</td>\n",
              "      <td>-0.261606</td>\n",
              "      <td>1.000000</td>\n",
              "      <td>0.811957</td>\n",
              "    </tr>\n",
              "    <tr>\n",
              "      <th>십만명당 회피가능사망자수</th>\n",
              "      <td>0.556732</td>\n",
              "      <td>-0.118317</td>\n",
              "      <td>-0.196660</td>\n",
              "      <td>0.811957</td>\n",
              "      <td>1.000000</td>\n",
              "    </tr>\n",
              "  </tbody>\n",
              "</table>\n",
              "</div>"
            ],
            "text/plain": [
              "                   시도코드  심결요양급여비용총액  총 인구수(명)    인구당 비용  십만명당 회피가능사망자수\n",
              "시도코드           1.000000   -0.300655 -0.325540  0.417302       0.556732\n",
              "심결요양급여비용총액    -0.300655    1.000000  0.992251 -0.152993      -0.118317\n",
              "총 인구수(명)      -0.325540    0.992251  1.000000 -0.261606      -0.196660\n",
              "인구당 비용         0.417302   -0.152993 -0.261606  1.000000       0.811957\n",
              "십만명당 회피가능사망자수  0.556732   -0.118317 -0.196660  0.811957       1.000000"
            ]
          },
          "execution_count": 98,
          "metadata": {},
          "output_type": "execute_result"
        }
      ],
      "source": [
        "df_pop_die.corr(method='pearson')"
      ]
    },
    {
      "cell_type": "code",
      "execution_count": 99,
      "metadata": {
        "colab": {
          "base_uri": "https://localhost:8080/",
          "height": 548
        },
        "id": "y-DnGbt5RMEY",
        "outputId": "5e032d9b-a19a-4fc0-c757-b153177b357f"
      },
      "outputs": [
        {
          "data": {
            "text/plain": [
              "<matplotlib.axes._subplots.AxesSubplot at 0x7f234b746bd0>"
            ]
          },
          "execution_count": 99,
          "metadata": {},
          "output_type": "execute_result"
        },
        {
          "data": {
            "image/png": "[encoded data removed]",
            "text/plain": [
              "<Figure size 504x504 with 2 Axes>"
            ]
          },
          "metadata": {
            "needs_background": "light"
          },
          "output_type": "display_data"
        }
      ],
      "source": [
        "plt.rcParams[\"figure.figsize\"] = (7,7)\n",
        "sns.heatmap(df_pop_die.corr(),\n",
        "           annot = True, #실제 값 화면에 나타내기\n",
        "           cmap = 'PuBu', #색상\n",
        "           vmin = -1, vmax=1 , #컬러차트 영역 -1 ~ +1\n",
        "          )"
      ]
    },
    {
      "cell_type": "markdown",
      "metadata": {
        "id": "czzJvl40XiVZ"
      },
      "source": [
        "사망율로 상관관계 확인하기 (2015년 데이터)"
      ]
    },
    {
      "cell_type": "code",
      "execution_count": 108,
      "metadata": {
        "id": "-R6e9zbEUDF7"
      },
      "outputs": [],
      "source": [
        "p_die = pd.read_csv(die_p)\n",
        "del p_die['Unnamed: 0']\n",
        "p_die.rename(columns= {'시도명': '시도코드'}, inplace=True)"
      ]
    },
    {
      "cell_type": "code",
      "execution_count": 117,
      "metadata": {
        "id": "q9klEii9Z3Ta"
      },
      "outputs": [],
      "source": [
        "del df_pop['인구당 비용']"
      ]
    },
    {
      "cell_type": "code",
      "execution_count": 179,
      "metadata": {
        "id": "LHsNgwOwXpt0"
      },
      "outputs": [],
      "source": [
        "df_pop_die_p = df_pop.join(p_die, how='left')\n",
        "df_pop_die_p['인구당 심결급여비용총액'] = df_hos['심결요양급여비용총액'] / df_hos['총 인구수(명)'] "
      ]
    },
    {
      "cell_type": "code",
      "execution_count": 184,
      "metadata": {
        "id": "WZIipSPGYu7j"
      },
      "outputs": [],
      "source": [
        "X = df_pop_die_p['총 인구수(명)'].values\n",
        "Y = df_pop_die_p['사망률'].values"
      ]
    },
    {
      "cell_type": "code",
      "execution_count": 185,
      "metadata": {
        "colab": {
          "base_uri": "https://localhost:8080/",
          "height": 457
        },
        "id": "KMcoS-P8ZQ2c",
        "outputId": "ddf7c5b3-080b-434a-a9e2-c2558e0cd015"
      },
      "outputs": [
        {
          "data": {
            "image/png": "[encoded data removed]",
            "text/plain": [
              "<Figure size 504x504 with 1 Axes>"
            ]
          },
          "metadata": {
            "needs_background": "light"
          },
          "output_type": "display_data"
        }
      ],
      "source": [
        "plt.scatter(X,Y, alpha=0.5)\n",
        "plt.title('총 인구수, 사망률')\n",
        "plt.xlabel('인구당 요양급여비용')\n",
        "plt.ylabel('사망률')\n",
        "plt.show()"
      ]
    },
    {
      "cell_type": "markdown",
      "metadata": {
        "id": "dhbhGzs4xwe9"
      },
      "source": [
        "✔️ 총인구수, 사망률이 약간의 연광성을 보여줌 "
      ]
    },
    {
      "cell_type": "code",
      "execution_count": 186,
      "metadata": {
        "colab": {
          "base_uri": "https://localhost:8080/",
          "height": 255
        },
        "id": "dyzrgz5_ZWps",
        "outputId": "a92d9939-2c8d-4790-916d-abd154b1645c"
      },
      "outputs": [
        {
          "data": {
            "text/html": [
              "<div>\n",
              "<style scoped>\n",
              "    .dataframe tbody tr th:only-of-type {\n",
              "        vertical-align: middle;\n",
              "    }\n",
              "\n",
              "    .dataframe tbody tr th {\n",
              "        vertical-align: top;\n",
              "    }\n",
              "\n",
              "    .dataframe thead th {\n",
              "        text-align: right;\n",
              "    }\n",
              "</style>\n",
              "<table border=\"1\" class=\"dataframe\">\n",
              "  <thead>\n",
              "    <tr style=\"text-align: right;\">\n",
              "      <th></th>\n",
              "      <th>심결요양급여비용총액</th>\n",
              "      <th>총 인구수(명)</th>\n",
              "      <th>인구당 비용</th>\n",
              "      <th>사망률</th>\n",
              "      <th>인구당 심결급여비용총액</th>\n",
              "    </tr>\n",
              "  </thead>\n",
              "  <tbody>\n",
              "    <tr>\n",
              "      <th>심결요양급여비용총액</th>\n",
              "      <td>1.000000</td>\n",
              "      <td>0.992251</td>\n",
              "      <td>-0.152993</td>\n",
              "      <td>-0.464805</td>\n",
              "      <td>-0.152993</td>\n",
              "    </tr>\n",
              "    <tr>\n",
              "      <th>총 인구수(명)</th>\n",
              "      <td>0.992251</td>\n",
              "      <td>1.000000</td>\n",
              "      <td>-0.261606</td>\n",
              "      <td>-0.502897</td>\n",
              "      <td>-0.261606</td>\n",
              "    </tr>\n",
              "    <tr>\n",
              "      <th>인구당 비용</th>\n",
              "      <td>-0.152993</td>\n",
              "      <td>-0.261606</td>\n",
              "      <td>1.000000</td>\n",
              "      <td>0.307284</td>\n",
              "      <td>1.000000</td>\n",
              "    </tr>\n",
              "    <tr>\n",
              "      <th>사망률</th>\n",
              "      <td>-0.464805</td>\n",
              "      <td>-0.502897</td>\n",
              "      <td>0.307284</td>\n",
              "      <td>1.000000</td>\n",
              "      <td>0.307284</td>\n",
              "    </tr>\n",
              "    <tr>\n",
              "      <th>인구당 심결급여비용총액</th>\n",
              "      <td>-0.152993</td>\n",
              "      <td>-0.261606</td>\n",
              "      <td>1.000000</td>\n",
              "      <td>0.307284</td>\n",
              "      <td>1.000000</td>\n",
              "    </tr>\n",
              "  </tbody>\n",
              "</table>\n",
              "</div>"
            ],
            "text/plain": [
              "              심결요양급여비용총액  총 인구수(명)    인구당 비용       사망률  인구당 심결급여비용총액\n",
              "심결요양급여비용총액      1.000000  0.992251 -0.152993 -0.464805     -0.152993\n",
              "총 인구수(명)        0.992251  1.000000 -0.261606 -0.502897     -0.261606\n",
              "인구당 비용         -0.152993 -0.261606  1.000000  0.307284      1.000000\n",
              "사망률            -0.464805 -0.502897  0.307284  1.000000      0.307284\n",
              "인구당 심결급여비용총액   -0.152993 -0.261606  1.000000  0.307284      1.000000"
            ]
          },
          "execution_count": 186,
          "metadata": {},
          "output_type": "execute_result"
        }
      ],
      "source": [
        "df_pop_die_p.corr(method='pearson')"
      ]
    },
    {
      "cell_type": "markdown",
      "metadata": {
        "id": "xtahRB3PdfeN"
      },
      "source": [
        "#### 입원일수와 상관관계"
      ]
    },
    {
      "cell_type": "code",
      "execution_count": 152,
      "metadata": {
        "colab": {
          "base_uri": "https://localhost:8080/"
        },
        "id": "nVNbKkfncBaM",
        "outputId": "72dff13f-bc53-47d1-e1a3-9c97e857f41c"
      },
      "outputs": [
        {
          "data": {
            "text/plain": [
              "Index(['가입자 일련번호', '연령대코드', '시도코드', '서식코드', '진료과목코드', '주상병코드', '입내원일수',\n",
              "       '심결가산율', '심결요양급여비용총액'],\n",
              "      dtype='object')"
            ]
          },
          "execution_count": 152,
          "metadata": {},
          "output_type": "execute_result"
        }
      ],
      "source": [
        "df.columns"
      ]
    },
    {
      "cell_type": "code",
      "execution_count": 156,
      "metadata": {
        "id": "qF6WTDxadlS1"
      },
      "outputs": [],
      "source": [
        "df_hos = df.groupby('시도코드')[['입내원일수', '심결요양급여비용총액']].sum()\n",
        "df_hos = df_hos.join(pop_city)"
      ]
    },
    {
      "cell_type": "markdown",
      "metadata": {
        "id": "S_j7ytWMyDWJ"
      },
      "source": [
        "십만명당 회피가능 사망자수에 근거하여 다른 value도 기준을 맞춤 \n",
        "  - 기준을 제외해도 결과는 동일 "
      ]
    },
    {
      "cell_type": "code",
      "execution_count": 174,
      "metadata": {
        "id": "rm-Pu_H8d3DH"
      },
      "outputs": [],
      "source": [
        "df_hos['십만명당 입내원일수'] = df_hos['입내원일수'] / df_hos['총 인구수(명)'] * 100000\n",
        "df_hos['십만명당 요양급여총액'] = df_hos['심결요양급여비용총액'] / df_hos['총 인구수(명)'] * 100000"
      ]
    },
    {
      "cell_type": "code",
      "execution_count": 175,
      "metadata": {
        "colab": {
          "base_uri": "https://localhost:8080/",
          "height": 658
        },
        "id": "FJZKzHQAhO6T",
        "outputId": "e066d67a-b94a-4061-cf00-d310a0a2d362"
      },
      "outputs": [
        {
          "data": {
            "text/html": [
              "<div>\n",
              "<style scoped>\n",
              "    .dataframe tbody tr th:only-of-type {\n",
              "        vertical-align: middle;\n",
              "    }\n",
              "\n",
              "    .dataframe tbody tr th {\n",
              "        vertical-align: top;\n",
              "    }\n",
              "\n",
              "    .dataframe thead th {\n",
              "        text-align: right;\n",
              "    }\n",
              "</style>\n",
              "<table border=\"1\" class=\"dataframe\">\n",
              "  <thead>\n",
              "    <tr style=\"text-align: right;\">\n",
              "      <th></th>\n",
              "      <th>입내원일수</th>\n",
              "      <th>심결요양급여비용총액</th>\n",
              "      <th>총 인구수(명)</th>\n",
              "      <th>십만명당 입내원일수</th>\n",
              "      <th>십만명당 요양급여총액</th>\n",
              "      <th>십만명당 회피가능사망자수</th>\n",
              "    </tr>\n",
              "    <tr>\n",
              "      <th>시도코드</th>\n",
              "      <th></th>\n",
              "      <th></th>\n",
              "      <th></th>\n",
              "      <th></th>\n",
              "      <th></th>\n",
              "      <th></th>\n",
              "    </tr>\n",
              "  </thead>\n",
              "  <tbody>\n",
              "    <tr>\n",
              "      <th>11</th>\n",
              "      <td>4191024</td>\n",
              "      <td>187836166960</td>\n",
              "      <td>9639541</td>\n",
              "      <td>43477.422836</td>\n",
              "      <td>1.948601e+09</td>\n",
              "      <td>66.5</td>\n",
              "    </tr>\n",
              "    <tr>\n",
              "      <th>21</th>\n",
              "      <td>1914593</td>\n",
              "      <td>85683171090</td>\n",
              "      <td>3372692</td>\n",
              "      <td>56767.502043</td>\n",
              "      <td>2.540498e+09</td>\n",
              "      <td>86.4</td>\n",
              "    </tr>\n",
              "    <tr>\n",
              "      <th>22</th>\n",
              "      <td>1113887</td>\n",
              "      <td>50084064620</td>\n",
              "      <td>2429940</td>\n",
              "      <td>45840.103048</td>\n",
              "      <td>2.061124e+09</td>\n",
              "      <td>61.4</td>\n",
              "    </tr>\n",
              "    <tr>\n",
              "      <th>23</th>\n",
              "      <td>1272059</td>\n",
              "      <td>59609191530</td>\n",
              "      <td>2952237</td>\n",
              "      <td>43087.970241</td>\n",
              "      <td>2.019119e+09</td>\n",
              "      <td>65.6</td>\n",
              "    </tr>\n",
              "    <tr>\n",
              "      <th>24</th>\n",
              "      <td>696180</td>\n",
              "      <td>32915444680</td>\n",
              "      <td>1489730</td>\n",
              "      <td>46731.958140</td>\n",
              "      <td>2.209491e+09</td>\n",
              "      <td>60.7</td>\n",
              "    </tr>\n",
              "    <tr>\n",
              "      <th>25</th>\n",
              "      <td>719595</td>\n",
              "      <td>30254629710</td>\n",
              "      <td>1498839</td>\n",
              "      <td>48010.159864</td>\n",
              "      <td>2.018538e+09</td>\n",
              "      <td>55.6</td>\n",
              "    </tr>\n",
              "    <tr>\n",
              "      <th>26</th>\n",
              "      <td>530646</td>\n",
              "      <td>24540993400</td>\n",
              "      <td>1143692</td>\n",
              "      <td>46397.631530</td>\n",
              "      <td>2.145769e+09</td>\n",
              "      <td>52.7</td>\n",
              "    </tr>\n",
              "    <tr>\n",
              "      <th>29</th>\n",
              "      <td>150108</td>\n",
              "      <td>5869375380</td>\n",
              "      <td>338136</td>\n",
              "      <td>44392.788700</td>\n",
              "      <td>1.735803e+09</td>\n",
              "      <td>37.9</td>\n",
              "    </tr>\n",
              "    <tr>\n",
              "      <th>31</th>\n",
              "      <td>5604843</td>\n",
              "      <td>248135363540</td>\n",
              "      <td>13300900</td>\n",
              "      <td>42138.825192</td>\n",
              "      <td>1.865553e+09</td>\n",
              "      <td>59.5</td>\n",
              "    </tr>\n",
              "    <tr>\n",
              "      <th>32</th>\n",
              "      <td>774475</td>\n",
              "      <td>32227158040</td>\n",
              "      <td>1520127</td>\n",
              "      <td>50948.045788</td>\n",
              "      <td>2.120031e+09</td>\n",
              "      <td>120.8</td>\n",
              "    </tr>\n",
              "    <tr>\n",
              "      <th>33</th>\n",
              "      <td>884522</td>\n",
              "      <td>35342444840</td>\n",
              "      <td>1629343</td>\n",
              "      <td>54287.034713</td>\n",
              "      <td>2.169122e+09</td>\n",
              "      <td>84.9</td>\n",
              "    </tr>\n",
              "    <tr>\n",
              "      <th>34</th>\n",
              "      <td>1239780</td>\n",
              "      <td>51308896010</td>\n",
              "      <td>2188649</td>\n",
              "      <td>56645.903477</td>\n",
              "      <td>2.344318e+09</td>\n",
              "      <td>90.5</td>\n",
              "    </tr>\n",
              "    <tr>\n",
              "      <th>35</th>\n",
              "      <td>1065392</td>\n",
              "      <td>46769491370</td>\n",
              "      <td>1807423</td>\n",
              "      <td>58945.360328</td>\n",
              "      <td>2.587634e+09</td>\n",
              "      <td>107.1</td>\n",
              "    </tr>\n",
              "    <tr>\n",
              "      <th>36</th>\n",
              "      <td>1167667</td>\n",
              "      <td>56364053840</td>\n",
              "      <td>1787543</td>\n",
              "      <td>65322.456579</td>\n",
              "      <td>3.153158e+09</td>\n",
              "      <td>152.8</td>\n",
              "    </tr>\n",
              "    <tr>\n",
              "      <th>37</th>\n",
              "      <td>1436346</td>\n",
              "      <td>66113537380</td>\n",
              "      <td>2668154</td>\n",
              "      <td>53832.949672</td>\n",
              "      <td>2.477876e+09</td>\n",
              "      <td>97.0</td>\n",
              "    </tr>\n",
              "    <tr>\n",
              "      <th>38</th>\n",
              "      <td>1713506</td>\n",
              "      <td>82029013970</td>\n",
              "      <td>3347209</td>\n",
              "      <td>51192.082717</td>\n",
              "      <td>2.450669e+09</td>\n",
              "      <td>90.7</td>\n",
              "    </tr>\n",
              "    <tr>\n",
              "      <th>39</th>\n",
              "      <td>294332</td>\n",
              "      <td>14057678400</td>\n",
              "      <td>665048</td>\n",
              "      <td>44257.256619</td>\n",
              "      <td>2.113784e+09</td>\n",
              "      <td>99.1</td>\n",
              "    </tr>\n",
              "  </tbody>\n",
              "</table>\n",
              "</div>"
            ],
            "text/plain": [
              "        입내원일수    심결요양급여비용총액  ...   십만명당 요양급여총액  십만명당 회피가능사망자수\n",
              "시도코드                         ...                             \n",
              "11    4191024  187836166960  ...  1.948601e+09           66.5\n",
              "21    1914593   85683171090  ...  2.540498e+09           86.4\n",
              "22    1113887   50084064620  ...  2.061124e+09           61.4\n",
              "23    1272059   59609191530  ...  2.019119e+09           65.6\n",
              "24     696180   32915444680  ...  2.209491e+09           60.7\n",
              "25     719595   30254629710  ...  2.018538e+09           55.6\n",
              "26     530646   24540993400  ...  2.145769e+09           52.7\n",
              "29     150108    5869375380  ...  1.735803e+09           37.9\n",
              "31    5604843  248135363540  ...  1.865553e+09           59.5\n",
              "32     774475   32227158040  ...  2.120031e+09          120.8\n",
              "33     884522   35342444840  ...  2.169122e+09           84.9\n",
              "34    1239780   51308896010  ...  2.344318e+09           90.5\n",
              "35    1065392   46769491370  ...  2.587634e+09          107.1\n",
              "36    1167667   56364053840  ...  3.153158e+09          152.8\n",
              "37    1436346   66113537380  ...  2.477876e+09           97.0\n",
              "38    1713506   82029013970  ...  2.450669e+09           90.7\n",
              "39     294332   14057678400  ...  2.113784e+09           99.1\n",
              "\n",
              "[17 rows x 6 columns]"
            ]
          },
          "execution_count": 175,
          "metadata": {},
          "output_type": "execute_result"
        }
      ],
      "source": [
        "df_hos"
      ]
    },
    {
      "cell_type": "markdown",
      "metadata": {
        "id": "3I--chBZyML7"
      },
      "source": [
        "상관관계 분석"
      ]
    },
    {
      "cell_type": "code",
      "execution_count": 176,
      "metadata": {
        "colab": {
          "base_uri": "https://localhost:8080/",
          "height": 354
        },
        "id": "uihqRQrwekqQ",
        "outputId": "51d4528c-b4e4-4c42-a51b-2612b4dc6877"
      },
      "outputs": [
        {
          "data": {
            "text/html": [
              "<div>\n",
              "<style scoped>\n",
              "    .dataframe tbody tr th:only-of-type {\n",
              "        vertical-align: middle;\n",
              "    }\n",
              "\n",
              "    .dataframe tbody tr th {\n",
              "        vertical-align: top;\n",
              "    }\n",
              "\n",
              "    .dataframe thead th {\n",
              "        text-align: right;\n",
              "    }\n",
              "</style>\n",
              "<table border=\"1\" class=\"dataframe\">\n",
              "  <thead>\n",
              "    <tr style=\"text-align: right;\">\n",
              "      <th></th>\n",
              "      <th>입내원일수</th>\n",
              "      <th>심결요양급여비용총액</th>\n",
              "      <th>총 인구수(명)</th>\n",
              "      <th>십만명당 입내원일수</th>\n",
              "      <th>십만명당 요양급여총액</th>\n",
              "      <th>십만명당 회피가능사망자수</th>\n",
              "    </tr>\n",
              "  </thead>\n",
              "  <tbody>\n",
              "    <tr>\n",
              "      <th>입내원일수</th>\n",
              "      <td>1.000000</td>\n",
              "      <td>0.999087</td>\n",
              "      <td>0.993956</td>\n",
              "      <td>-0.240546</td>\n",
              "      <td>-0.170517</td>\n",
              "      <td>-0.126633</td>\n",
              "    </tr>\n",
              "    <tr>\n",
              "      <th>심결요양급여비용총액</th>\n",
              "      <td>0.999087</td>\n",
              "      <td>1.000000</td>\n",
              "      <td>0.992251</td>\n",
              "      <td>-0.239145</td>\n",
              "      <td>-0.152993</td>\n",
              "      <td>-0.118317</td>\n",
              "    </tr>\n",
              "    <tr>\n",
              "      <th>총 인구수(명)</th>\n",
              "      <td>0.993956</td>\n",
              "      <td>0.992251</td>\n",
              "      <td>1.000000</td>\n",
              "      <td>-0.335862</td>\n",
              "      <td>-0.261606</td>\n",
              "      <td>-0.196660</td>\n",
              "    </tr>\n",
              "    <tr>\n",
              "      <th>십만명당 입내원일수</th>\n",
              "      <td>-0.240546</td>\n",
              "      <td>-0.239145</td>\n",
              "      <td>-0.335862</td>\n",
              "      <td>1.000000</td>\n",
              "      <td>0.901911</td>\n",
              "      <td>0.777017</td>\n",
              "    </tr>\n",
              "    <tr>\n",
              "      <th>십만명당 요양급여총액</th>\n",
              "      <td>-0.170517</td>\n",
              "      <td>-0.152993</td>\n",
              "      <td>-0.261606</td>\n",
              "      <td>0.901911</td>\n",
              "      <td>1.000000</td>\n",
              "      <td>0.811957</td>\n",
              "    </tr>\n",
              "    <tr>\n",
              "      <th>십만명당 회피가능사망자수</th>\n",
              "      <td>-0.126633</td>\n",
              "      <td>-0.118317</td>\n",
              "      <td>-0.196660</td>\n",
              "      <td>0.777017</td>\n",
              "      <td>0.811957</td>\n",
              "      <td>1.000000</td>\n",
              "    </tr>\n",
              "  </tbody>\n",
              "</table>\n",
              "</div>"
            ],
            "text/plain": [
              "                  입내원일수  심결요양급여비용총액  ...  십만명당 요양급여총액  십만명당 회피가능사망자수\n",
              "입내원일수          1.000000    0.999087  ...    -0.170517      -0.126633\n",
              "심결요양급여비용총액     0.999087    1.000000  ...    -0.152993      -0.118317\n",
              "총 인구수(명)       0.993956    0.992251  ...    -0.261606      -0.196660\n",
              "십만명당 입내원일수    -0.240546   -0.239145  ...     0.901911       0.777017\n",
              "십만명당 요양급여총액   -0.170517   -0.152993  ...     1.000000       0.811957\n",
              "십만명당 회피가능사망자수 -0.126633   -0.118317  ...     0.811957       1.000000\n",
              "\n",
              "[6 rows x 6 columns]"
            ]
          },
          "execution_count": 176,
          "metadata": {},
          "output_type": "execute_result"
        }
      ],
      "source": [
        "df_hos.corr(method='pearson')"
      ]
    },
    {
      "cell_type": "code",
      "execution_count": 177,
      "metadata": {
        "id": "fhKsYP8_eu-5"
      },
      "outputs": [],
      "source": [
        "X = df_hos['십만명당 입내원일수'].values\n",
        "Y = df_hos['십만명당 회피가능사망자수'].values"
      ]
    },
    {
      "cell_type": "code",
      "execution_count": 178,
      "metadata": {
        "colab": {
          "base_uri": "https://localhost:8080/",
          "height": 457
        },
        "id": "Gzs9KadEf1ob",
        "outputId": "3f5dd6aa-86f1-47c3-e22c-64429aa6ec6e"
      },
      "outputs": [
        {
          "data": {
            "image/png": "[encoded data removed]",
            "text/plain": [
              "<Figure size 504x504 with 1 Axes>"
            ]
          },
          "metadata": {
            "needs_background": "light"
          },
          "output_type": "display_data"
        }
      ],
      "source": [
        "plt.scatter(X,Y, alpha=0.5)\n",
        "plt.title('십만명당 입내원일수 및 회피가능사망자수')\n",
        "plt.xlabel('입내원일수')\n",
        "plt.ylabel('회피가능사망자수')\n",
        "plt.show()"
      ]
    },
    {
      "cell_type": "markdown",
      "metadata": {
        "id": "gN8VsKkKy6sS"
      },
      "source": [
        "### 결과\n",
        "- 십만명당 입내원일수 - 사망자수 (0.78)\n",
        "- 십만명당 요양급여총액 - 사망자수 (0.81)\n",
        "  - 급여, 입내원수, 인구수와 연관된 부분을 더욱 조사해봐야 할듯 ✔️\n"
      ]
    },
    {
      "cell_type": "code",
      "execution_count": 188,
      "metadata": {
        "colab": {
          "base_uri": "https://localhost:8080/",
          "height": 548
        },
        "id": "l4f-z9Xvyv3A",
        "outputId": "beeb0384-7e2e-4f33-9cdc-a52d8168c731"
      },
      "outputs": [
        {
          "data": {
            "text/plain": [
              "<matplotlib.axes._subplots.AxesSubplot at 0x7f233b7dcf90>"
            ]
          },
          "execution_count": 188,
          "metadata": {},
          "output_type": "execute_result"
        },
        {
          "data": {
            "image/png": "[encoded data removed]",
            "text/plain": [
              "<Figure size 504x504 with 2 Axes>"
            ]
          },
          "metadata": {
            "needs_background": "light"
          },
          "output_type": "display_data"
        }
      ],
      "source": [
        "plt.rcParams[\"figure.figsize\"] = (7,7)\n",
        "sns.heatmap(df_hos.corr(),\n",
        "           annot = True, #실제 값 화면에 나타내기\n",
        "           cmap = 'PuBu', #색상\n",
        "           vmin = -1, vmax=1 , #컬러차트 영역 -1 ~ +1\n",
        "          )"
      ]
    }
  ],
  "metadata": {
    "colab": {
      "name": "이영서_0930.ipynb",
      "provenance": []
    },
    "kernelspec": {
      "display_name": "Python 3",
      "name": "python3"
    },
    "language_info": {
      "name": "python"
    }
  },
  "nbformat": 4,
  "nbformat_minor": 0
}
