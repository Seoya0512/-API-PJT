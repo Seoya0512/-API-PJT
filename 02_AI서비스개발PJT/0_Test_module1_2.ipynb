{
  "cells": [
    {
      "cell_type": "markdown",
      "metadata": {
        "id": "kvcX4o-NskQe"
      },
      "source": [
        "# 네이버 클라우드 사용"
      ]
    },
    {
      "cell_type": "markdown",
      "metadata": {
        "id": "1wZWZ0dySAyG"
      },
      "source": [
        "* CSR"
      ]
    },
    {
      "cell_type": "code",
      "execution_count": 1,
      "metadata": {
        "colab": {
          "base_uri": "https://localhost:8080/"
        },
        "id": "YXTMqzyvDkDM",
        "outputId": "54a11a97-995f-43f0-c9e4-d7248cd7e8ed"
      },
      "outputs": [
        {
          "name": "stdout",
          "output_type": "stream",
          "text": [
            "{\"text\":\"두통\"}\n"
          ]
        }
      ],
      "source": [
        "import json\n",
        "import requests\n",
        "\n",
        "data = open(\"./두통.m4a\", \"rb\") # STT를 진행하고자 하는 음성 파일\n",
        "\n",
        "Lang = \"Kor\" # Kor / Jpn / Chn / Eng\n",
        "URL = \"https://naveropenapi.apigw.ntruss.com/recog/v1/stt?lang=\" + Lang\n",
        "    \n",
        "ID = \"xc3dw1w5jl\" # 인증 정보의 Client ID\n",
        "Secret = \"Personal Key\" # 인증 정보의 Client Secret\n",
        "    \n",
        "headers = {\n",
        "    \"Content-Type\": \"application/octet-stream\", # Fix\n",
        "    \"X-NCP-APIGW-API-KEY-ID\": ID,\n",
        "    \"X-NCP-APIGW-API-KEY\": Secret,\n",
        "}\n",
        "response = requests.post(URL,  data=data, headers=headers)\n",
        "rescode = response.status_code\n",
        "\n",
        "if(rescode == 200):\n",
        "    print (response.text)\n",
        "else:\n",
        "    print(\"Error : \" + response.text)"
      ]
    },
    {
      "cell_type": "markdown",
      "metadata": {
        "id": "4mMcdusoPO77"
      },
      "source": [
        "* OCR: 타이레놀 템플릿을 사용함 \n",
        "  - 비슷한 양식은 이해를 하지만, 비슷하지 않은 양식은 인식을 못함..\n",
        "  - 참고 사이트 : https://dev-sngwn.github.io/2019-12-17-korean-ocr-step-by-step-2/"
      ]
    },
    {
      "cell_type": "code",
      "execution_count": 12,
      "metadata": {
        "id": "z05ic8gNLibk"
      },
      "outputs": [],
      "source": [
        "import json\n",
        "import base64\n",
        "import requests\n",
        "\n",
        "f = open(\"./common.jpeg\", \"rb\")\n",
        "img = base64.b64encode(f.read())\n",
        "\n",
        " # 본인의 APIGW Invoke URL로 치환\n",
        "URL = \"개인 APIGW Invoke사용\"\n",
        "    \n",
        " # 본인의 Secret Key로 치환\n",
        "KEY = \"Secret Key 사용\"\n",
        "    \n",
        "headers = {\n",
        "    \"Content-Type\": \"application/json\",\n",
        "    \"X-OCR-SECRET\": KEY\n",
        "}\n",
        "    \n",
        "data = {\n",
        "    \"version\": \"V1\",\n",
        "    \"requestId\": \"sample_id\", # 요청을 구분하기 위한 ID, 사용자가 정의\n",
        "    \"timestamp\": 0, # 현재 시간값\n",
        "    \"images\": [\n",
        "        {\n",
        "            \"name\": \"sample_image\",\n",
        "            \"format\": \"png\",\n",
        "            \"data\": img.decode('utf-8')\n",
        "          # \"templateIds\": [400]  # 설정하지 않을 경우, 자동으로 템플릿을 찾음 \n",
        "        }\n",
        "    ]\n",
        "}\n",
        "data = json.dumps(data)\n",
        "response = requests.post(URL, data=data, headers=headers)\n",
        "res = json.loads(response.text)"
      ]
    },
    {
      "cell_type": "code",
      "execution_count": 13,
      "metadata": {
        "colab": {
          "base_uri": "https://localhost:8080/"
        },
        "id": "bb0faSnJN5Jj",
        "outputId": "71c6daa3-45a5-472f-d836-f277876402fd"
      },
      "outputs": [
        {
          "name": "stdout",
          "output_type": "stream",
          "text": [
            "{'version': 'V1', 'requestId': 'sample_id', 'timestamp': 1634708675830, 'images': [{'uid': '3fce4a2a5bb14a5bb33223c0fdd62f52', 'name': 'sample_image', 'inferResult': 'SUCCESS', 'message': 'SUCCESS', 'matchedTemplate': {'id': 11132, 'name': 'Pill_Title'}, 'validationResult': {'result': 'NO_REQUESTED'}, 'title': {'name': 'name', 'bounding': {'top': 320.0, 'left': 63.0, 'width': 479.0, 'height': 135.0}, 'inferText': '타이레놀 R\\n정 남시753-7575', 'inferConfidence': 0.99592507}, 'fields': []}]}\n"
          ]
        }
      ],
      "source": [
        "print(res)"
      ]
    },
    {
      "cell_type": "code",
      "execution_count": null,
      "metadata": {
        "id": "EjXMkTnEOV30"
      },
      "outputs": [],
      "source": []
    }
  ],
  "metadata": {
    "colab": {
      "name": "0_Test_module1-2.ipynb",
      "provenance": []
    },
    "kernelspec": {
      "display_name": "Python 3",
      "name": "python3"
    },
    "language_info": {
      "name": "python"
    }
  },
  "nbformat": 4,
  "nbformat_minor": 0
}
