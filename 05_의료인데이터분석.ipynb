{
 "cells": [
  {
   "cell_type": "markdown",
   "source": [
    "## 지역별 의료인 수 및 인구 천명당 의사수를 비교 분석 (2019년도)\n",
    "참고자료 : OECD Health Statistics 2019(요약본).pdf\n",
    "- 인구 천명당 의사수 분석 : 의사수 / 주민등록인구수 * 1000\n",
    "- 의사 수 : 한의사 값을 제외\n",
    "- 간호사 수 : 간호조무사를 제외한 값 \n",
    "    - 간호조무사 포함 값은 평균  7.9명 \n",
    "    - OECD 평균 = 9.4명 "
   ],
   "metadata": {}
  },
  {
   "cell_type": "code",
   "execution_count": 1,
   "source": [
    "import pandas as pd\n",
    "import numpy as np\n",
    "import seaborn as sns\n",
    "\n",
    "import matplotlib.pyplot as plt\n",
    "from IPython.display import set_matplotlib_formats\n",
    "\n",
    "plt.rc('font', family='AppleGothic') \n",
    "plt.rc('axes', unicode_minus=False)\n",
    "\n",
    "# 폰트가 선명하게 보이기 위해\n",
    "set_matplotlib_formats('retina')\n",
    "\n",
    "# 그래프가 노트북 안에 보이게 하기 위해\n",
    "%matplotlib inline"
   ],
   "outputs": [
    {
     "output_type": "stream",
     "name": "stderr",
     "text": [
      "<ipython-input-1-b2c366fd8878>:12: DeprecationWarning: `set_matplotlib_formats` is deprecated since IPython 7.23, directly use `matplotlib_inline.backend_inline.set_matplotlib_formats()`\n",
      "  set_matplotlib_formats('retina')\n"
     ]
    }
   ],
   "metadata": {}
  },
  {
   "cell_type": "code",
   "execution_count": 15,
   "source": [
    "df = pd.read_csv(\"의료종사자수_통합.csv\")"
   ],
   "outputs": [],
   "metadata": {}
  },
  {
   "cell_type": "code",
   "execution_count": 17,
   "source": [
    "df.columns"
   ],
   "outputs": [
    {
     "output_type": "execute_result",
     "data": {
      "text/plain": [
       "Index(['행정구역별', '계', '의사', '간호사', '주민등록인구', '인구 천명당 의사수', '인구 천명당 간호사수',\n",
       "       '인구 천명당 의료인수'],\n",
       "      dtype='object')"
      ]
     },
     "metadata": {},
     "execution_count": 17
    }
   ],
   "metadata": {}
  },
  {
   "cell_type": "code",
   "execution_count": 18,
   "source": [
    "df"
   ],
   "outputs": [
    {
     "output_type": "execute_result",
     "data": {
      "text/html": [
       "<div>\n",
       "<style scoped>\n",
       "    .dataframe tbody tr th:only-of-type {\n",
       "        vertical-align: middle;\n",
       "    }\n",
       "\n",
       "    .dataframe tbody tr th {\n",
       "        vertical-align: top;\n",
       "    }\n",
       "\n",
       "    .dataframe thead th {\n",
       "        text-align: right;\n",
       "    }\n",
       "</style>\n",
       "<table border=\"1\" class=\"dataframe\">\n",
       "  <thead>\n",
       "    <tr style=\"text-align: right;\">\n",
       "      <th></th>\n",
       "      <th>행정구역별</th>\n",
       "      <th>계</th>\n",
       "      <th>의사</th>\n",
       "      <th>간호사</th>\n",
       "      <th>주민등록인구</th>\n",
       "      <th>인구 천명당 의사수</th>\n",
       "      <th>인구 천명당 간호사수</th>\n",
       "      <th>인구 천명당 의료인수</th>\n",
       "    </tr>\n",
       "  </thead>\n",
       "  <tbody>\n",
       "    <tr>\n",
       "      <th>0</th>\n",
       "      <td>계</td>\n",
       "      <td>460995</td>\n",
       "      <td>105628</td>\n",
       "      <td>215293</td>\n",
       "      <td>51849861</td>\n",
       "      <td>2.0</td>\n",
       "      <td>4.2</td>\n",
       "      <td>8.9</td>\n",
       "    </tr>\n",
       "    <tr>\n",
       "      <th>1</th>\n",
       "      <td>서울</td>\n",
       "      <td>114861</td>\n",
       "      <td>30359</td>\n",
       "      <td>52727</td>\n",
       "      <td>9729107</td>\n",
       "      <td>3.1</td>\n",
       "      <td>5.4</td>\n",
       "      <td>11.8</td>\n",
       "    </tr>\n",
       "    <tr>\n",
       "      <th>2</th>\n",
       "      <td>부산</td>\n",
       "      <td>37028</td>\n",
       "      <td>8008</td>\n",
       "      <td>18514</td>\n",
       "      <td>3413841</td>\n",
       "      <td>2.3</td>\n",
       "      <td>5.4</td>\n",
       "      <td>10.8</td>\n",
       "    </tr>\n",
       "    <tr>\n",
       "      <th>3</th>\n",
       "      <td>대구</td>\n",
       "      <td>26087</td>\n",
       "      <td>5908</td>\n",
       "      <td>12557</td>\n",
       "      <td>2438031</td>\n",
       "      <td>2.4</td>\n",
       "      <td>5.2</td>\n",
       "      <td>10.7</td>\n",
       "    </tr>\n",
       "    <tr>\n",
       "      <th>4</th>\n",
       "      <td>인천</td>\n",
       "      <td>24081</td>\n",
       "      <td>5071</td>\n",
       "      <td>11639</td>\n",
       "      <td>2957026</td>\n",
       "      <td>1.7</td>\n",
       "      <td>3.9</td>\n",
       "      <td>8.1</td>\n",
       "    </tr>\n",
       "    <tr>\n",
       "      <th>5</th>\n",
       "      <td>광주</td>\n",
       "      <td>17835</td>\n",
       "      <td>3658</td>\n",
       "      <td>8949</td>\n",
       "      <td>1456468</td>\n",
       "      <td>2.5</td>\n",
       "      <td>6.1</td>\n",
       "      <td>12.2</td>\n",
       "    </tr>\n",
       "    <tr>\n",
       "      <th>6</th>\n",
       "      <td>대전</td>\n",
       "      <td>15746</td>\n",
       "      <td>3726</td>\n",
       "      <td>7153</td>\n",
       "      <td>1474870</td>\n",
       "      <td>2.5</td>\n",
       "      <td>4.8</td>\n",
       "      <td>10.7</td>\n",
       "    </tr>\n",
       "    <tr>\n",
       "      <th>7</th>\n",
       "      <td>울산</td>\n",
       "      <td>8950</td>\n",
       "      <td>1754</td>\n",
       "      <td>4612</td>\n",
       "      <td>1148019</td>\n",
       "      <td>1.5</td>\n",
       "      <td>4.0</td>\n",
       "      <td>7.8</td>\n",
       "    </tr>\n",
       "    <tr>\n",
       "      <th>8</th>\n",
       "      <td>세종</td>\n",
       "      <td>1109</td>\n",
       "      <td>302</td>\n",
       "      <td>220</td>\n",
       "      <td>340575</td>\n",
       "      <td>0.9</td>\n",
       "      <td>0.6</td>\n",
       "      <td>3.3</td>\n",
       "    </tr>\n",
       "    <tr>\n",
       "      <th>9</th>\n",
       "      <td>경기</td>\n",
       "      <td>91723</td>\n",
       "      <td>21210</td>\n",
       "      <td>39694</td>\n",
       "      <td>13239666</td>\n",
       "      <td>1.6</td>\n",
       "      <td>3.0</td>\n",
       "      <td>6.9</td>\n",
       "    </tr>\n",
       "    <tr>\n",
       "      <th>10</th>\n",
       "      <td>강원</td>\n",
       "      <td>12115</td>\n",
       "      <td>2719</td>\n",
       "      <td>6043</td>\n",
       "      <td>1541502</td>\n",
       "      <td>1.8</td>\n",
       "      <td>3.9</td>\n",
       "      <td>7.9</td>\n",
       "    </tr>\n",
       "    <tr>\n",
       "      <th>11</th>\n",
       "      <td>충북</td>\n",
       "      <td>11258</td>\n",
       "      <td>2529</td>\n",
       "      <td>4767</td>\n",
       "      <td>1600007</td>\n",
       "      <td>1.6</td>\n",
       "      <td>3.0</td>\n",
       "      <td>7.0</td>\n",
       "    </tr>\n",
       "    <tr>\n",
       "      <th>12</th>\n",
       "      <td>충남</td>\n",
       "      <td>14122</td>\n",
       "      <td>3198</td>\n",
       "      <td>5940</td>\n",
       "      <td>2123709</td>\n",
       "      <td>1.5</td>\n",
       "      <td>2.8</td>\n",
       "      <td>6.6</td>\n",
       "    </tr>\n",
       "    <tr>\n",
       "      <th>13</th>\n",
       "      <td>전북</td>\n",
       "      <td>16821</td>\n",
       "      <td>3689</td>\n",
       "      <td>7652</td>\n",
       "      <td>1818917</td>\n",
       "      <td>2.0</td>\n",
       "      <td>4.2</td>\n",
       "      <td>9.2</td>\n",
       "    </tr>\n",
       "    <tr>\n",
       "      <th>14</th>\n",
       "      <td>전남</td>\n",
       "      <td>16775</td>\n",
       "      <td>3128</td>\n",
       "      <td>8539</td>\n",
       "      <td>1868745</td>\n",
       "      <td>1.7</td>\n",
       "      <td>4.6</td>\n",
       "      <td>9.0</td>\n",
       "    </tr>\n",
       "    <tr>\n",
       "      <th>15</th>\n",
       "      <td>경북</td>\n",
       "      <td>19165</td>\n",
       "      <td>3662</td>\n",
       "      <td>9577</td>\n",
       "      <td>2665836</td>\n",
       "      <td>1.4</td>\n",
       "      <td>3.6</td>\n",
       "      <td>7.2</td>\n",
       "    </tr>\n",
       "    <tr>\n",
       "      <th>16</th>\n",
       "      <td>경남</td>\n",
       "      <td>27744</td>\n",
       "      <td>5532</td>\n",
       "      <td>13972</td>\n",
       "      <td>3362553</td>\n",
       "      <td>1.6</td>\n",
       "      <td>4.2</td>\n",
       "      <td>8.3</td>\n",
       "    </tr>\n",
       "    <tr>\n",
       "      <th>17</th>\n",
       "      <td>제주</td>\n",
       "      <td>5575</td>\n",
       "      <td>1175</td>\n",
       "      <td>2738</td>\n",
       "      <td>670989</td>\n",
       "      <td>1.8</td>\n",
       "      <td>4.1</td>\n",
       "      <td>8.3</td>\n",
       "    </tr>\n",
       "  </tbody>\n",
       "</table>\n",
       "</div>"
      ],
      "text/plain": [
       "   행정구역별       계      의사     간호사    주민등록인구  인구 천명당 의사수  인구 천명당 간호사수  \\\n",
       "0      계  460995  105628  215293  51849861         2.0          4.2   \n",
       "1     서울  114861   30359   52727   9729107         3.1          5.4   \n",
       "2     부산   37028    8008   18514   3413841         2.3          5.4   \n",
       "3     대구   26087    5908   12557   2438031         2.4          5.2   \n",
       "4     인천   24081    5071   11639   2957026         1.7          3.9   \n",
       "5     광주   17835    3658    8949   1456468         2.5          6.1   \n",
       "6     대전   15746    3726    7153   1474870         2.5          4.8   \n",
       "7     울산    8950    1754    4612   1148019         1.5          4.0   \n",
       "8     세종    1109     302     220    340575         0.9          0.6   \n",
       "9     경기   91723   21210   39694  13239666         1.6          3.0   \n",
       "10    강원   12115    2719    6043   1541502         1.8          3.9   \n",
       "11    충북   11258    2529    4767   1600007         1.6          3.0   \n",
       "12    충남   14122    3198    5940   2123709         1.5          2.8   \n",
       "13    전북   16821    3689    7652   1818917         2.0          4.2   \n",
       "14    전남   16775    3128    8539   1868745         1.7          4.6   \n",
       "15    경북   19165    3662    9577   2665836         1.4          3.6   \n",
       "16    경남   27744    5532   13972   3362553         1.6          4.2   \n",
       "17    제주    5575    1175    2738    670989         1.8          4.1   \n",
       "\n",
       "    인구 천명당 의료인수  \n",
       "0           8.9  \n",
       "1          11.8  \n",
       "2          10.8  \n",
       "3          10.7  \n",
       "4           8.1  \n",
       "5          12.2  \n",
       "6          10.7  \n",
       "7           7.8  \n",
       "8           3.3  \n",
       "9           6.9  \n",
       "10          7.9  \n",
       "11          7.0  \n",
       "12          6.6  \n",
       "13          9.2  \n",
       "14          9.0  \n",
       "15          7.2  \n",
       "16          8.3  \n",
       "17          8.3  "
      ]
     },
     "metadata": {},
     "execution_count": 18
    }
   ],
   "metadata": {}
  },
  {
   "cell_type": "markdown",
   "source": [
    "* 천명당 의사수 데이터 : 전국(데이터)보다 낮은 지역 \n",
    "    - 세종시, 경북, 울산, 충남, 경기 \n",
    "    - Top 3 지역은 상급종합병원이 없음 "
   ],
   "metadata": {}
  },
  {
   "cell_type": "code",
   "execution_count": 47,
   "source": [
    "df_doc_less= df[df['인구 천명당 의사수'] < 2.0]\n",
    "df_doc_less.sort_values(by='인구 천명당 의사수').head()"
   ],
   "outputs": [
    {
     "output_type": "execute_result",
     "data": {
      "text/html": [
       "<div>\n",
       "<style scoped>\n",
       "    .dataframe tbody tr th:only-of-type {\n",
       "        vertical-align: middle;\n",
       "    }\n",
       "\n",
       "    .dataframe tbody tr th {\n",
       "        vertical-align: top;\n",
       "    }\n",
       "\n",
       "    .dataframe thead th {\n",
       "        text-align: right;\n",
       "    }\n",
       "</style>\n",
       "<table border=\"1\" class=\"dataframe\">\n",
       "  <thead>\n",
       "    <tr style=\"text-align: right;\">\n",
       "      <th></th>\n",
       "      <th>행정구역별</th>\n",
       "      <th>계</th>\n",
       "      <th>의사</th>\n",
       "      <th>간호사</th>\n",
       "      <th>주민등록인구</th>\n",
       "      <th>인구 천명당 의사수</th>\n",
       "      <th>인구 천명당 간호사수</th>\n",
       "      <th>인구 천명당 의료인수</th>\n",
       "    </tr>\n",
       "  </thead>\n",
       "  <tbody>\n",
       "    <tr>\n",
       "      <th>8</th>\n",
       "      <td>세종</td>\n",
       "      <td>1109</td>\n",
       "      <td>302</td>\n",
       "      <td>220</td>\n",
       "      <td>340575</td>\n",
       "      <td>0.9</td>\n",
       "      <td>0.6</td>\n",
       "      <td>3.3</td>\n",
       "    </tr>\n",
       "    <tr>\n",
       "      <th>15</th>\n",
       "      <td>경북</td>\n",
       "      <td>19165</td>\n",
       "      <td>3662</td>\n",
       "      <td>9577</td>\n",
       "      <td>2665836</td>\n",
       "      <td>1.4</td>\n",
       "      <td>3.6</td>\n",
       "      <td>7.2</td>\n",
       "    </tr>\n",
       "    <tr>\n",
       "      <th>7</th>\n",
       "      <td>울산</td>\n",
       "      <td>8950</td>\n",
       "      <td>1754</td>\n",
       "      <td>4612</td>\n",
       "      <td>1148019</td>\n",
       "      <td>1.5</td>\n",
       "      <td>4.0</td>\n",
       "      <td>7.8</td>\n",
       "    </tr>\n",
       "    <tr>\n",
       "      <th>12</th>\n",
       "      <td>충남</td>\n",
       "      <td>14122</td>\n",
       "      <td>3198</td>\n",
       "      <td>5940</td>\n",
       "      <td>2123709</td>\n",
       "      <td>1.5</td>\n",
       "      <td>2.8</td>\n",
       "      <td>6.6</td>\n",
       "    </tr>\n",
       "    <tr>\n",
       "      <th>9</th>\n",
       "      <td>경기</td>\n",
       "      <td>91723</td>\n",
       "      <td>21210</td>\n",
       "      <td>39694</td>\n",
       "      <td>13239666</td>\n",
       "      <td>1.6</td>\n",
       "      <td>3.0</td>\n",
       "      <td>6.9</td>\n",
       "    </tr>\n",
       "  </tbody>\n",
       "</table>\n",
       "</div>"
      ],
      "text/plain": [
       "   행정구역별      계     의사    간호사    주민등록인구  인구 천명당 의사수  인구 천명당 간호사수  인구 천명당 의료인수\n",
       "8     세종   1109    302    220    340575         0.9          0.6          3.3\n",
       "15    경북  19165   3662   9577   2665836         1.4          3.6          7.2\n",
       "7     울산   8950   1754   4612   1148019         1.5          4.0          7.8\n",
       "12    충남  14122   3198   5940   2123709         1.5          2.8          6.6\n",
       "9     경기  91723  21210  39694  13239666         1.6          3.0          6.9"
      ]
     },
     "metadata": {},
     "execution_count": 47
    }
   ],
   "metadata": {}
  },
  {
   "cell_type": "code",
   "execution_count": 48,
   "source": [
    "df_doc_less.set_index('행정구역별', inplace=True)"
   ],
   "outputs": [],
   "metadata": {}
  },
  {
   "cell_type": "code",
   "execution_count": 49,
   "source": [
    "df_doc_less['인구 천명당 의사수'].sort_values().plot.barh()"
   ],
   "outputs": [
    {
     "output_type": "execute_result",
     "data": {
      "text/plain": [
       "<AxesSubplot:ylabel='행정구역별'>"
      ]
     },
     "metadata": {},
     "execution_count": 49
    },
    {
     "output_type": "display_data",
     "data": {
      "image/png": "[encoded data removed]",
      "text/plain": [
       "<Figure size 432x288 with 1 Axes>"
      ]
     },
     "metadata": {
      "needs_background": "light"
     }
    }
   ],
   "metadata": {}
  },
  {
   "cell_type": "markdown",
   "source": [
    "* 천명당 간호사 수 데이터 : 전국(데이터)보다 낮은 지역\n",
    "    - 세종시, 충남, 경기, 충북 ,경북 "
   ],
   "metadata": {}
  },
  {
   "cell_type": "code",
   "execution_count": 51,
   "source": [
    "df_n_less= df[df['인구 천명당 간호사수'] < 4.2]\n",
    "df_n_less.sort_values(by='인구 천명당 간호사수').head()"
   ],
   "outputs": [
    {
     "output_type": "execute_result",
     "data": {
      "text/html": [
       "<div>\n",
       "<style scoped>\n",
       "    .dataframe tbody tr th:only-of-type {\n",
       "        vertical-align: middle;\n",
       "    }\n",
       "\n",
       "    .dataframe tbody tr th {\n",
       "        vertical-align: top;\n",
       "    }\n",
       "\n",
       "    .dataframe thead th {\n",
       "        text-align: right;\n",
       "    }\n",
       "</style>\n",
       "<table border=\"1\" class=\"dataframe\">\n",
       "  <thead>\n",
       "    <tr style=\"text-align: right;\">\n",
       "      <th></th>\n",
       "      <th>행정구역별</th>\n",
       "      <th>계</th>\n",
       "      <th>의사</th>\n",
       "      <th>간호사</th>\n",
       "      <th>주민등록인구</th>\n",
       "      <th>인구 천명당 의사수</th>\n",
       "      <th>인구 천명당 간호사수</th>\n",
       "      <th>인구 천명당 의료인수</th>\n",
       "    </tr>\n",
       "  </thead>\n",
       "  <tbody>\n",
       "    <tr>\n",
       "      <th>8</th>\n",
       "      <td>세종</td>\n",
       "      <td>1109</td>\n",
       "      <td>302</td>\n",
       "      <td>220</td>\n",
       "      <td>340575</td>\n",
       "      <td>0.9</td>\n",
       "      <td>0.6</td>\n",
       "      <td>3.3</td>\n",
       "    </tr>\n",
       "    <tr>\n",
       "      <th>12</th>\n",
       "      <td>충남</td>\n",
       "      <td>14122</td>\n",
       "      <td>3198</td>\n",
       "      <td>5940</td>\n",
       "      <td>2123709</td>\n",
       "      <td>1.5</td>\n",
       "      <td>2.8</td>\n",
       "      <td>6.6</td>\n",
       "    </tr>\n",
       "    <tr>\n",
       "      <th>9</th>\n",
       "      <td>경기</td>\n",
       "      <td>91723</td>\n",
       "      <td>21210</td>\n",
       "      <td>39694</td>\n",
       "      <td>13239666</td>\n",
       "      <td>1.6</td>\n",
       "      <td>3.0</td>\n",
       "      <td>6.9</td>\n",
       "    </tr>\n",
       "    <tr>\n",
       "      <th>11</th>\n",
       "      <td>충북</td>\n",
       "      <td>11258</td>\n",
       "      <td>2529</td>\n",
       "      <td>4767</td>\n",
       "      <td>1600007</td>\n",
       "      <td>1.6</td>\n",
       "      <td>3.0</td>\n",
       "      <td>7.0</td>\n",
       "    </tr>\n",
       "    <tr>\n",
       "      <th>15</th>\n",
       "      <td>경북</td>\n",
       "      <td>19165</td>\n",
       "      <td>3662</td>\n",
       "      <td>9577</td>\n",
       "      <td>2665836</td>\n",
       "      <td>1.4</td>\n",
       "      <td>3.6</td>\n",
       "      <td>7.2</td>\n",
       "    </tr>\n",
       "  </tbody>\n",
       "</table>\n",
       "</div>"
      ],
      "text/plain": [
       "   행정구역별      계     의사    간호사    주민등록인구  인구 천명당 의사수  인구 천명당 간호사수  인구 천명당 의료인수\n",
       "8     세종   1109    302    220    340575         0.9          0.6          3.3\n",
       "12    충남  14122   3198   5940   2123709         1.5          2.8          6.6\n",
       "9     경기  91723  21210  39694  13239666         1.6          3.0          6.9\n",
       "11    충북  11258   2529   4767   1600007         1.6          3.0          7.0\n",
       "15    경북  19165   3662   9577   2665836         1.4          3.6          7.2"
      ]
     },
     "metadata": {},
     "execution_count": 51
    }
   ],
   "metadata": {}
  },
  {
   "cell_type": "code",
   "execution_count": 52,
   "source": [
    "df_n_less.set_index('행정구역별', inplace=True)\n",
    "df_n_less['인구 천명당 간호사수'].sort_values().plot.barh()"
   ],
   "outputs": [
    {
     "output_type": "execute_result",
     "data": {
      "text/plain": [
       "<AxesSubplot:ylabel='행정구역별'>"
      ]
     },
     "metadata": {},
     "execution_count": 52
    },
    {
     "output_type": "display_data",
     "data": {
      "image/png": "[encoded data removed]",
      "text/plain": [
       "<Figure size 432x288 with 1 Axes>"
      ]
     },
     "metadata": {
      "needs_background": "light"
     }
    }
   ],
   "metadata": {}
  },
  {
   "cell_type": "markdown",
   "source": [
    "* 천명당 간호사 수 데이터 : 전국(데이터)보다 낮은 지역\n",
    "    - 세종시"
   ],
   "metadata": {}
  },
  {
   "cell_type": "code",
   "execution_count": 53,
   "source": [
    "df_less= df[df['인구 천명당 의료인수'] < 4.2]\n",
    "df_less.sort_values(by='인구 천명당 의료인수')"
   ],
   "outputs": [
    {
     "output_type": "execute_result",
     "data": {
      "text/html": [
       "<div>\n",
       "<style scoped>\n",
       "    .dataframe tbody tr th:only-of-type {\n",
       "        vertical-align: middle;\n",
       "    }\n",
       "\n",
       "    .dataframe tbody tr th {\n",
       "        vertical-align: top;\n",
       "    }\n",
       "\n",
       "    .dataframe thead th {\n",
       "        text-align: right;\n",
       "    }\n",
       "</style>\n",
       "<table border=\"1\" class=\"dataframe\">\n",
       "  <thead>\n",
       "    <tr style=\"text-align: right;\">\n",
       "      <th></th>\n",
       "      <th>행정구역별</th>\n",
       "      <th>계</th>\n",
       "      <th>의사</th>\n",
       "      <th>간호사</th>\n",
       "      <th>주민등록인구</th>\n",
       "      <th>인구 천명당 의사수</th>\n",
       "      <th>인구 천명당 간호사수</th>\n",
       "      <th>인구 천명당 의료인수</th>\n",
       "    </tr>\n",
       "  </thead>\n",
       "  <tbody>\n",
       "    <tr>\n",
       "      <th>8</th>\n",
       "      <td>세종</td>\n",
       "      <td>1109</td>\n",
       "      <td>302</td>\n",
       "      <td>220</td>\n",
       "      <td>340575</td>\n",
       "      <td>0.9</td>\n",
       "      <td>0.6</td>\n",
       "      <td>3.3</td>\n",
       "    </tr>\n",
       "  </tbody>\n",
       "</table>\n",
       "</div>"
      ],
      "text/plain": [
       "  행정구역별     계   의사  간호사  주민등록인구  인구 천명당 의사수  인구 천명당 간호사수  인구 천명당 의료인수\n",
       "8    세종  1109  302  220  340575         0.9          0.6          3.3"
      ]
     },
     "metadata": {},
     "execution_count": 53
    }
   ],
   "metadata": {}
  },
  {
   "cell_type": "markdown",
   "source": [
    "- OECD 기준보다 의료인 수가 부족해보임 \n",
    "- 상급종합병원, 종합병원의 숫자와 의료인 수에 대한 관계 파악이 필요해보임 \n"
   ],
   "metadata": {}
  },
  {
   "cell_type": "code",
   "execution_count": null,
   "source": [],
   "outputs": [],
   "metadata": {}
  }
 ],
 "metadata": {
  "orig_nbformat": 4,
  "language_info": {
   "name": "python",
   "version": "3.8.11",
   "mimetype": "text/x-python",
   "codemirror_mode": {
    "name": "ipython",
    "version": 3
   },
   "pygments_lexer": "ipython3",
   "nbconvert_exporter": "python",
   "file_extension": ".py"
  },
  "kernelspec": {
   "name": "python3",
   "display_name": "Python 3.8.11 64-bit ('base': conda)"
  },
  "interpreter": {
   "hash": "59aa76eec713a2e656bb9d4ddb5f36b21f3d4006b36f877fc5669415524b1415"
  }
 },
 "nbformat": 4,
 "nbformat_minor": 2
}